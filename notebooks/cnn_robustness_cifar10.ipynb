{
 "cells": [
  {
   "cell_type": "markdown",
   "metadata": {},
   "source": [
    "# CNN robustness of CIFAR-10\n",
    "\n",
    "In this notebook we evaluate the samples we collected over different runs on CIFAR-10."
   ]
  },
  {
   "cell_type": "code",
   "execution_count": 1,
   "metadata": {},
   "outputs": [],
   "source": [
    "import os\n",
    "from jax import numpy as jnp\n",
    "import numpy as onp\n",
    "import jax\n",
    "import tensorflow.compat.v2 as tf\n",
    "import argparse\n",
    "import time\n",
    "import tqdm\n",
    "from collections import OrderedDict\n",
    "\n",
    "from bnn_hmc.utils import data_utils\n",
    "from bnn_hmc.utils import models\n",
    "from bnn_hmc.utils import metrics\n",
    "from bnn_hmc.utils import losses\n",
    "from bnn_hmc.utils import checkpoint_utils\n",
    "from bnn_hmc.utils import cmd_args_utils\n",
    "from bnn_hmc.utils import logging_utils\n",
    "from bnn_hmc.utils import train_utils\n",
    "from bnn_hmc.utils import precision_utils\n",
    "\n",
    "from itertools import chain\n",
    "\n",
    "from matplotlib import pyplot as plt\n",
    "import matplotlib\n",
    "\n",
    "%matplotlib inline\n",
    "%load_ext autoreload\n",
    "%autoreload 2"
   ]
  },
  {
   "cell_type": "code",
   "execution_count": 2,
   "metadata": {},
   "outputs": [],
   "source": [
    "dtype = jnp.float32\n",
    "train_set, test_set, task, data_info = data_utils.make_ds_pmap_fullbatch(\n",
    "    \"cifar10\", dtype)\n",
    "test_labels = test_set[1]\n",
    "\n",
    "net_apply, net_init = models.get_model(\"lenet\", data_info)\n",
    "net_apply = precision_utils.rewrite_high_precision(net_apply)\n",
    "\n",
    "(_, predict_fn, ensemble_upd_fn, _,_) = train_utils.get_task_specific_fns(task, data_info)"
   ]
  },
  {
   "cell_type": "code",
   "execution_count": 3,
   "metadata": {},
   "outputs": [],
   "source": [
    "def predict_hmc_seeds(ds, path_dict):\n",
    "    all_preds = {}\n",
    "    for seed, path in path_dict.items():\n",
    "        all_preds[seed] = predict_hmc(ds, path)[0].copy()\n",
    "    return all_preds\n",
    "\n",
    "def predict_hmc(ds, basepath):\n",
    "    basepath = os.path.join(basepath, \"model_step_{}.pt\")\n",
    "    ensemble_predictions = None\n",
    "    num_ensembled = 0\n",
    "    last_test_predictions = None\n",
    "    for i in tqdm.tqdm(range(11, 100)):\n",
    "        path = basepath.format(i)\n",
    "        try:\n",
    "            checkpoint_dict = checkpoint_utils.load_checkpoint(path)\n",
    "        except:\n",
    "            continue\n",
    "        _, params, net_state, _, _, accepted, _, _ = (\n",
    "            checkpoint_utils.parse_hmc_checkpoint_dict(checkpoint_dict))\n",
    "        if accepted:\n",
    "            _, test_predictions = onp.asarray(\n",
    "                predict_fn(net_apply, params, net_state, ds))\n",
    "            ensemble_predictions = ensemble_upd_fn(\n",
    "                ensemble_predictions, num_ensembled, test_predictions)\n",
    "            num_ensembled += 1\n",
    "            last_test_predictions = test_predictions\n",
    "    print(num_ensembled)\n",
    "    return ensemble_predictions, last_test_predictions\n",
    "\n",
    "\n",
    "def predict_de(ds, path_dict):\n",
    "    ensemble_predictions = None\n",
    "    num_ensembled = 0\n",
    "#     last_test_predictions = None\n",
    "    all_predictions = {}\n",
    "    for seed, path in tqdm.tqdm(path_dict.items()):\n",
    "        checkpoint_dict = checkpoint_utils.load_checkpoint(path)\n",
    "        params = checkpoint_dict[\"params\"]\n",
    "        net_state = checkpoint_dict[\"net_state\"]\n",
    "        _, test_predictions = onp.asarray(\n",
    "            predict_fn(net_apply, params, net_state, ds))\n",
    "        ensemble_predictions = ensemble_upd_fn(\n",
    "            ensemble_predictions, num_ensembled, test_predictions)\n",
    "        num_ensembled += 1\n",
    "        all_predictions[seed] = test_predictions.copy()\n",
    "        if num_ensembled >= 10:\n",
    "            break\n",
    "    print(num_ensembled)\n",
    "    return ensemble_predictions, last_test_predictions"
   ]
  },
  {
   "cell_type": "markdown",
   "metadata": {},
   "source": [
    "## Dirs"
   ]
  },
  {
   "cell_type": "code",
   "execution_count": 1,
   "metadata": {},
   "outputs": [],
   "source": [
    "gaussdirs = {}\n",
    "prefix = \"../runs/hmc/cifar10/lenet/gaussian/\"\n",
    "dirs = os.listdir(prefix)\n",
    "for path in dirs:\n",
    "    full_path = os.path.join(prefix, path)\n",
    "    wd = float(full_path.split(\"_\")[3])\n",
    "    stepsize = float(full_path.split(\"_\")[5])\n",
    "    trajlen = float(full_path.split(\"_\")[7])\n",
    "#     name = \"Gaussian wd={} T=1\".format(wd, stepsize)\n",
    "    gaussdirs[wd] = full_path\n",
    "        \n",
    "gaussdirs"
   ]
  },
  {
   "cell_type": "code",
   "execution_count": 4,
   "metadata": {},
   "outputs": [
    {
     "data": {
      "text/plain": [
       "{100.0: '../runs/hmc/cifar10/lenet/pca_wd100/model_lenet_wd_100.0_stepsize_3e-05_trajlen_0.15_burnin_10_mh_True_temp_1.0_seed_0'}"
      ]
     },
     "execution_count": 4,
     "metadata": {},
     "output_type": "execute_result"
    }
   ],
   "source": [
    "sumfilterdirs = {}\n",
    "# prefix = \"../runs/hmc/cifar10/lenet/sumfilter/\"\n",
    "prefix = \"../runs/hmc/cifar10/lenet/pca_wd100/\"\n",
    "dirs = os.listdir(prefix)\n",
    "for path in dirs:\n",
    "    full_path = os.path.join(prefix, path)\n",
    "    wd = float(full_path.split(\"_\")[4])\n",
    "    stepsize = float(full_path.split(\"_\")[6])\n",
    "    trajlen = float(full_path.split(\"_\")[8])\n",
    "#     name = \"Gaussian wd={} T=1\".format(wd, stepsize)\n",
    "    sumfilterdirs[wd] = full_path\n",
    "        \n",
    "sumfilterdirs"
   ]
  },
  {
   "cell_type": "code",
   "execution_count": 5,
   "metadata": {},
   "outputs": [
    {
     "data": {
      "text/plain": [
       "{100.0: {8.0: '../runs/sgd/cifar10/lenet/sgd_mom_0.9__lr_sch_i_1e-07___epochs_300_wd_100.0_batchsize_80_temp_1.0__seed_8/model_step_299.pt',\n",
       "  5.0: '../runs/sgd/cifar10/lenet/sgd_mom_0.9__lr_sch_i_1e-07___epochs_300_wd_100.0_batchsize_80_temp_1.0__seed_5/model_step_299.pt',\n",
       "  6.0: '../runs/sgd/cifar10/lenet/sgd_mom_0.9__lr_sch_i_1e-07___epochs_300_wd_100.0_batchsize_80_temp_1.0__seed_6/model_step_299.pt',\n",
       "  11.0: '../runs/sgd/cifar10/lenet/sgd_mom_0.9__lr_sch_i_1e-07___epochs_300_wd_100.0_batchsize_80_temp_1.0__seed_11/model_step_299.pt',\n",
       "  2.0: '../runs/sgd/cifar10/lenet/sgd_mom_0.9__lr_sch_i_1e-07___epochs_300_wd_100.0_batchsize_80_temp_1.0__seed_2/model_step_299.pt',\n",
       "  4.0: '../runs/sgd/cifar10/lenet/sgd_mom_0.9__lr_sch_i_1e-07___epochs_300_wd_100.0_batchsize_80_temp_1.0__seed_4/model_step_299.pt',\n",
       "  10.0: '../runs/sgd/cifar10/lenet/sgd_mom_0.9__lr_sch_i_1e-07___epochs_300_wd_100.0_batchsize_80_temp_1.0__seed_10/model_step_299.pt',\n",
       "  3.0: '../runs/sgd/cifar10/lenet/sgd_mom_0.9__lr_sch_i_1e-07___epochs_300_wd_100.0_batchsize_80_temp_1.0__seed_3/model_step_299.pt',\n",
       "  9.0: '../runs/sgd/cifar10/lenet/sgd_mom_0.9__lr_sch_i_1e-07___epochs_300_wd_100.0_batchsize_80_temp_1.0__seed_9/model_step_299.pt',\n",
       "  7.0: '../runs/sgd/cifar10/lenet/sgd_mom_0.9__lr_sch_i_1e-07___epochs_300_wd_100.0_batchsize_80_temp_1.0__seed_7/model_step_299.pt'}}"
      ]
     },
     "execution_count": 5,
     "metadata": {},
     "output_type": "execute_result"
    }
   ],
   "source": [
    "sgddirs = {}\n",
    "prefix = \"../runs/sgd/cifar10/lenet/\"\n",
    "\n",
    "dirs = os.listdir(prefix)\n",
    "for path in dirs:\n",
    "    if path[:3] != \"sgd\":\n",
    "        continue\n",
    "    full_path = os.path.join(prefix, path, \"model_step_299.pt\")\n",
    "    wd = float(full_path.split(\"_\")[13])\n",
    "    seed = float(full_path.split(\"_\")[-3].split(\"/\")[0])\n",
    "    if wd not in sgddirs:\n",
    "        sgddirs[wd] = {}\n",
    "    sgddirs[wd][seed] = full_path\n",
    "        \n",
    "sgddirs"
   ]
  },
  {
   "cell_type": "code",
   "execution_count": 6,
   "metadata": {},
   "outputs": [],
   "source": [
    "arr = onp.load(\"cifar10_patch_pca.npz\")\n",
    "\n",
    "pca = {\n",
    "    \"basis\": arr[\"components\"],\n",
    "    \"mean\": arr[\"mean\"],\n",
    "    \"explained_var_ratio\": arr[\"explained_var_ratio\"]\n",
    "}\n",
    "\n",
    "\n",
    "\n",
    "layer_pcas = {\n",
    "    'conv2_d': pca,\n",
    "    'conv2_d_1': None,\n",
    "    'linear': None,\n",
    "    'linear_1': None,\n",
    "    'linear_2': None,\n",
    "}\n",
    "\n",
    "\n",
    "def get_n_components(rel_explained_vars, cutoff):\n",
    "    cumsum = onp.cumsum(rel_explained_vars)\n",
    "    n_components = onp.where(cumsum > cutoff)[0][0]\n",
    "    return n_components\n",
    "\n",
    "\n",
    "def pca_ajust_layer(params, layer_name, conv_cutoff, linear_cutoff):\n",
    "    is_conv = layer_name[:5] == \"conv2\"\n",
    "    w = onp.asarray(params[layer_name][\"w\"])\n",
    "    b = onp.asarray(params[layer_name][\"b\"])\n",
    "    original_shape = w.shape\n",
    "    \n",
    "    pca_dict = layer_pcas[layer_name]\n",
    "    if pca_dict is None:\n",
    "        return w, b\n",
    "    basis = pca_dict[\"basis\"]\n",
    "    mean = pca_dict[\"mean\"]\n",
    "    explained_var_ratio = pca_dict[\"explained_var_ratio\"]\n",
    "    \n",
    "    cutoff = conv_cutoff if is_conv else linear_cutoff\n",
    "    n_components = get_n_components(explained_var_ratio, cutoff)\n",
    "    basis = basis[:n_components]\n",
    "    print(\"{}  \\tRetained components: {} / {}\".format(\n",
    "        layer_name, n_components, basis.shape[1]))\n",
    "    \n",
    "    if is_conv:\n",
    "        ks, _, i_c, o_c = w.shape\n",
    "        w = w.reshape((ks**2 * i_c, -1))\n",
    "        w = w.transpose(1, 0)\n",
    "#         print(w.shape, basis.shape, mean.shape)\n",
    "        original_w_mean = (w * mean[None, :]).sum()\n",
    "        w = (w) @ basis.T @ basis\n",
    "        new_w_mean = (w * mean[None, :]).sum()\n",
    "        w = w.transpose(1, 0)\n",
    "        w = w.reshape(original_shape)\n",
    "    else:\n",
    "        w = w.transpose(1, 0)\n",
    "        original_w_mean = w @ mean\n",
    "        w = w @ basis.T @ basis\n",
    "        new_w_mean = w @ mean\n",
    "        w = w.transpose(1, 0)\n",
    "        \n",
    "    bias_shift = original_w_mean - new_w_mean\n",
    "#     print(bias_shift)\n",
    "    b = b + bias_shift\n",
    "    return w, b\n",
    "\n",
    "\n",
    "# w = pca_ajust_layer(params, 'conv2_d')\n",
    "# w = pca_ajust_layer(params, 'conv2_d_1')\n",
    "# w = pca_ajust_layer(params, 'linear')\n",
    "# w = pca_ajust_layer(params, 'linear_1')\n",
    "# w = pca_ajust_layer(params, 'linear_2')\n",
    "        \n",
    "\n",
    "def adjust_pca_projections(params, conv_cutoff=0.99, linear_cutoff=0.9):\n",
    "    params_flat, treedef = jax.tree_flatten(params)\n",
    "    new_params = {layer_name: {p: v for p, v in layer_dict.items()}\n",
    "                  for layer_name, layer_dict in params.items()}\n",
    "    \n",
    "    for layer_name in layer_pcas.keys():\n",
    "        w, b = pca_ajust_layer(params, layer_name, conv_cutoff, linear_cutoff)\n",
    "        new_params[layer_name][\"w\"] = jnp.asarray(w)\n",
    "        new_params[layer_name][\"b\"] = jnp.asarray(b)\n",
    "    \n",
    "    new_params_flat, _ = jax.tree_flatten(new_params)\n",
    "    new_params = jax.tree_unflatten(treedef, new_params_flat)\n",
    "    return new_params"
   ]
  },
  {
   "cell_type": "code",
   "execution_count": 7,
   "metadata": {},
   "outputs": [],
   "source": [
    "\n",
    "def predict_hmc(ds, basepath, adjust_pca=False):\n",
    "    basepath = os.path.join(basepath, \"model_step_{}.pt\")\n",
    "    ensemble_predictions = None\n",
    "    num_ensembled = 0\n",
    "    last_test_predictions = None\n",
    "    for i in tqdm.tqdm(range(11, 100)):\n",
    "        path = basepath.format(i)\n",
    "        try:\n",
    "            checkpoint_dict = checkpoint_utils.load_checkpoint(path)\n",
    "        except:\n",
    "            continue\n",
    "        _, params, net_state, _, _, accepted, _, _ = (\n",
    "            checkpoint_utils.parse_hmc_checkpoint_dict(checkpoint_dict))\n",
    "        if adjust_pca:\n",
    "            params = adjust_pca_projections(params)\n",
    "#             return None\n",
    "        if accepted:\n",
    "            _, test_predictions = onp.asarray(\n",
    "                predict_fn(net_apply, params, net_state, ds))\n",
    "            ensemble_predictions = ensemble_upd_fn(\n",
    "                ensemble_predictions, num_ensembled, test_predictions)\n",
    "            num_ensembled += 1\n",
    "            last_test_predictions = test_predictions\n",
    "    print(num_ensembled)\n",
    "    return ensemble_predictions, last_test_predictions\n",
    "\n",
    "\n",
    "def predict_de(ds, path_dict, adjust_pca=False):\n",
    "    ensemble_predictions = None\n",
    "    num_ensembled = 0\n",
    "    last_test_predictions = None\n",
    "    for path in tqdm.tqdm(path_dict.values()):\n",
    "        checkpoint_dict = checkpoint_utils.load_checkpoint(path)\n",
    "        params = checkpoint_dict[\"params\"]\n",
    "        net_state = checkpoint_dict[\"net_state\"]\n",
    "        _, test_predictions = onp.asarray(\n",
    "            predict_fn(net_apply, params, net_state, ds))\n",
    "        ensemble_predictions = ensemble_upd_fn(\n",
    "            ensemble_predictions, num_ensembled, test_predictions)\n",
    "        num_ensembled += 1\n",
    "        last_test_predictions = test_predictions\n",
    "    print(num_ensembled)\n",
    "    return ensemble_predictions, last_test_predictions"
   ]
  },
  {
   "cell_type": "code",
   "execution_count": 9,
   "metadata": {
    "scrolled": true
   },
   "outputs": [],
   "source": [
    "# hmc_predictions, predictions = predict_hmc(test_set, gaussdirs[100], adjust_pca=True)\n",
    "# print(metrics.accuracy(hmc_predictions, test_labels))"
   ]
  },
  {
   "cell_type": "markdown",
   "metadata": {},
   "source": [
    "## CIFAR-10-C"
   ]
  },
  {
   "cell_type": "code",
   "execution_count": 17,
   "metadata": {},
   "outputs": [],
   "source": [
    "from bnn_hmc.utils import data_utils\n",
    "import tensorflow_datasets as tfds\n",
    "\n",
    "all_corruptions = tfds.image_classification.cifar10_corrupted._CORRUPTIONS"
   ]
  },
  {
   "cell_type": "code",
   "execution_count": 18,
   "metadata": {},
   "outputs": [
    {
     "data": {
      "text/plain": [
       "('brightness',\n",
       " 'contrast',\n",
       " 'defocus_blur',\n",
       " 'elastic',\n",
       " 'fog',\n",
       " 'frost',\n",
       " 'frosted_glass_blur',\n",
       " 'gaussian_blur',\n",
       " 'gaussian_noise',\n",
       " 'impulse_noise',\n",
       " 'jpeg_compression',\n",
       " 'motion_blur',\n",
       " 'pixelate',\n",
       " 'saturate',\n",
       " 'shot_noise',\n",
       " 'snow',\n",
       " 'spatter',\n",
       " 'speckle_noise',\n",
       " 'zoom_blur')"
      ]
     },
     "execution_count": 18,
     "metadata": {},
     "output_type": "execute_result"
    }
   ],
   "source": [
    "all_corruptions"
   ]
  },
  {
   "cell_type": "code",
   "execution_count": 19,
   "metadata": {},
   "outputs": [],
   "source": [
    "def load_image_dataset(\n",
    "    split, batch_size, name, repeat=False, shuffle=False,\n",
    "    shuffle_seed=None\n",
    "):\n",
    "    ds, dataset_info = tfds.load(name, split=split, as_supervised=True,\n",
    "                               with_info=True)\n",
    "    num_classes = dataset_info.features[\"label\"].num_classes\n",
    "    num_examples = dataset_info.splits[split].num_examples\n",
    "    num_channels = dataset_info.features['image'].shape[-1]\n",
    "    \n",
    "    def img_to_float32(image, label):\n",
    "        return tf.image.convert_image_dtype(image, tf.float32), label\n",
    "\n",
    "    ds = ds.map(img_to_float32).cache()\n",
    "    ds_stats = data_utils._ALL_IMG_DS_STATS[data_utils.ImgDatasets(\"cifar10\")]\n",
    "    def img_normalize(image, label):\n",
    "        \"\"\"Normalize the image to zero mean and unit variance.\"\"\"\n",
    "        mean, std = ds_stats\n",
    "        image -= tf.constant(mean, shape=[1, 1, num_channels], dtype=image.dtype)\n",
    "        image /= tf.constant(std, shape=[1, 1, num_channels], dtype=image.dtype)\n",
    "        return image, label\n",
    "\n",
    "    ds = ds.map(img_normalize)\n",
    "    if batch_size == -1:\n",
    "        batch_size = num_examples\n",
    "    if repeat:\n",
    "        ds = ds.repeat()\n",
    "    if shuffle:\n",
    "        ds = ds.shuffle(buffer_size=10 * batch_size, seed=shuffle_seed)\n",
    "    ds = ds.batch(batch_size)\n",
    "    return tfds.as_numpy(ds), num_classes, num_examples\n",
    "\n",
    "\n",
    "def get_image_dataset(name):\n",
    "\n",
    "    test_set, n_classes, _ = load_image_dataset(\"test\", -1, name)\n",
    "    test_set = next(iter(test_set))\n",
    "    \n",
    "    data_info = {\n",
    "        \"num_classes\": n_classes\n",
    "    }\n",
    "\n",
    "    return test_set, data_info\n",
    "\n",
    "\n",
    "def pmap_dataset(ds, n_devices):\n",
    "    return jax.pmap(lambda x: x)(data_utils.batch_split_axis(ds, n_devices))\n",
    "\n",
    "\n",
    "def make_cifar10c_pmap_fullbatch(corruption, intensity, dtype, n_devices=None, truncate_to=None):\n",
    "    \"\"\"Make train and test sets sharded over batch dim.\"\"\"\n",
    "    name = get_ds_name(corruption, intensity).lower()\n",
    "    n_devices = n_devices or len(jax.local_devices())\n",
    "    test_set, data_info = get_image_dataset(name)\n",
    "    loaded = True\n",
    "    test_set = pmap_dataset(test_set, n_devices)\n",
    "\n",
    "    test_set = test_set[0].astype(dtype), test_set[1]\n",
    "\n",
    "    return test_set, task, data_info\n",
    "\n",
    "\n",
    "def get_ds_name(corruption, intensity):\n",
    "    return \"cifar10_corrupted/{}_{}\".format(corruption, intensity)\n",
    "    \n",
    "\n",
    "dtype = jnp.float32\n",
    "test_set, task, data_info = make_cifar10c_pmap_fullbatch(all_corruptions[0], 3, dtype)\n",
    "test_labels = test_set[1]\n",
    "\n",
    "net_apply, net_init = models.get_model(\"lenet\", data_info)\n",
    "net_apply = precision_utils.rewrite_high_precision(net_apply)\n",
    "(_, predict_fn, ensemble_upd_fn, _,_) = train_utils.get_task_specific_fns(task, data_info)"
   ]
  },
  {
   "cell_type": "code",
   "execution_count": 20,
   "metadata": {
    "scrolled": true
   },
   "outputs": [
    {
     "name": "stderr",
     "output_type": "stream",
     "text": [
      "  0%|          | 0/89 [00:00<?, ?it/s]/home/pavel/anaconda3/envs/py38/lib/python3.8/site-packages/numpy/core/_asarray.py:83: VisibleDeprecationWarning: Creating an ndarray from ragged nested sequences (which is a list-or-tuple of lists-or-tuples-or ndarrays with different lengths or shapes) is deprecated. If you meant to do this, you must specify 'dtype=object' when creating the ndarray\n",
      "  return array(a, dtype, copy=False, order=order)\n",
      "100%|██████████| 89/89 [00:09<00:00,  9.50it/s]\n"
     ]
    },
    {
     "name": "stdout",
     "output_type": "stream",
     "text": [
      "74\n"
     ]
    },
    {
     "name": "stderr",
     "output_type": "stream",
     "text": [
      "100%|██████████| 89/89 [00:00<00:00, 135.31it/s]\n",
      "100%|██████████| 10/10 [00:00<00:00, 122.10it/s]\n"
     ]
    },
    {
     "name": "stdout",
     "output_type": "stream",
     "text": [
      "78\n",
      "10\n"
     ]
    },
    {
     "name": "stderr",
     "output_type": "stream",
     "text": [
      "100%|██████████| 89/89 [00:00<00:00, 133.69it/s]\n",
      " 13%|█▎        | 12/89 [00:00<00:00, 117.42it/s]"
     ]
    },
    {
     "name": "stdout",
     "output_type": "stream",
     "text": [
      "74\n"
     ]
    },
    {
     "name": "stderr",
     "output_type": "stream",
     "text": [
      "100%|██████████| 89/89 [00:00<00:00, 126.46it/s]\n",
      "100%|██████████| 10/10 [00:00<00:00, 108.22it/s]\n"
     ]
    },
    {
     "name": "stdout",
     "output_type": "stream",
     "text": [
      "78\n",
      "10\n"
     ]
    },
    {
     "name": "stderr",
     "output_type": "stream",
     "text": [
      "100%|██████████| 89/89 [00:00<00:00, 128.09it/s]\n",
      " 13%|█▎        | 12/89 [00:00<00:00, 111.93it/s]"
     ]
    },
    {
     "name": "stdout",
     "output_type": "stream",
     "text": [
      "74\n"
     ]
    },
    {
     "name": "stderr",
     "output_type": "stream",
     "text": [
      "100%|██████████| 89/89 [00:00<00:00, 126.23it/s]\n",
      "100%|██████████| 10/10 [00:00<00:00, 117.13it/s]\n"
     ]
    },
    {
     "name": "stdout",
     "output_type": "stream",
     "text": [
      "78\n",
      "10\n"
     ]
    },
    {
     "name": "stderr",
     "output_type": "stream",
     "text": [
      "100%|██████████| 89/89 [00:00<00:00, 135.80it/s]\n",
      " 13%|█▎        | 12/89 [00:00<00:00, 115.82it/s]"
     ]
    },
    {
     "name": "stdout",
     "output_type": "stream",
     "text": [
      "74\n"
     ]
    },
    {
     "name": "stderr",
     "output_type": "stream",
     "text": [
      "100%|██████████| 89/89 [00:00<00:00, 128.01it/s]\n",
      "100%|██████████| 10/10 [00:00<00:00, 113.88it/s]\n"
     ]
    },
    {
     "name": "stdout",
     "output_type": "stream",
     "text": [
      "78\n",
      "10\n"
     ]
    },
    {
     "name": "stderr",
     "output_type": "stream",
     "text": [
      "100%|██████████| 89/89 [00:00<00:00, 136.43it/s]\n",
      " 13%|█▎        | 12/89 [00:00<00:00, 119.48it/s]"
     ]
    },
    {
     "name": "stdout",
     "output_type": "stream",
     "text": [
      "74\n"
     ]
    },
    {
     "name": "stderr",
     "output_type": "stream",
     "text": [
      "100%|██████████| 89/89 [00:00<00:00, 135.74it/s]\n",
      "100%|██████████| 10/10 [00:00<00:00, 114.21it/s]\n"
     ]
    },
    {
     "name": "stdout",
     "output_type": "stream",
     "text": [
      "78\n",
      "10\n"
     ]
    },
    {
     "name": "stderr",
     "output_type": "stream",
     "text": [
      "100%|██████████| 89/89 [00:00<00:00, 135.95it/s]\n",
      " 13%|█▎        | 12/89 [00:00<00:00, 112.53it/s]"
     ]
    },
    {
     "name": "stdout",
     "output_type": "stream",
     "text": [
      "74\n"
     ]
    },
    {
     "name": "stderr",
     "output_type": "stream",
     "text": [
      "100%|██████████| 89/89 [00:00<00:00, 128.25it/s]\n",
      "100%|██████████| 10/10 [00:00<00:00, 118.27it/s]\n"
     ]
    },
    {
     "name": "stdout",
     "output_type": "stream",
     "text": [
      "78\n",
      "10\n"
     ]
    },
    {
     "name": "stderr",
     "output_type": "stream",
     "text": [
      "100%|██████████| 89/89 [00:00<00:00, 144.08it/s]\n",
      " 15%|█▍        | 13/89 [00:00<00:00, 126.54it/s]"
     ]
    },
    {
     "name": "stdout",
     "output_type": "stream",
     "text": [
      "74\n"
     ]
    },
    {
     "name": "stderr",
     "output_type": "stream",
     "text": [
      "100%|██████████| 89/89 [00:00<00:00, 132.31it/s]\n",
      "100%|██████████| 10/10 [00:00<00:00, 123.33it/s]\n"
     ]
    },
    {
     "name": "stdout",
     "output_type": "stream",
     "text": [
      "78\n",
      "10\n"
     ]
    },
    {
     "name": "stderr",
     "output_type": "stream",
     "text": [
      "100%|██████████| 89/89 [00:00<00:00, 135.77it/s]\n",
      " 15%|█▍        | 13/89 [00:00<00:00, 125.06it/s]"
     ]
    },
    {
     "name": "stdout",
     "output_type": "stream",
     "text": [
      "74\n"
     ]
    },
    {
     "name": "stderr",
     "output_type": "stream",
     "text": [
      "100%|██████████| 89/89 [00:00<00:00, 139.69it/s]\n",
      "100%|██████████| 10/10 [00:00<00:00, 118.33it/s]\n"
     ]
    },
    {
     "name": "stdout",
     "output_type": "stream",
     "text": [
      "78\n",
      "10\n"
     ]
    },
    {
     "name": "stderr",
     "output_type": "stream",
     "text": [
      "100%|██████████| 89/89 [00:00<00:00, 133.02it/s]\n",
      " 12%|█▏        | 11/89 [00:00<00:00, 105.84it/s]"
     ]
    },
    {
     "name": "stdout",
     "output_type": "stream",
     "text": [
      "74\n"
     ]
    },
    {
     "name": "stderr",
     "output_type": "stream",
     "text": [
      "100%|██████████| 89/89 [00:00<00:00, 129.86it/s]\n",
      "100%|██████████| 10/10 [00:00<00:00, 119.68it/s]\n"
     ]
    },
    {
     "name": "stdout",
     "output_type": "stream",
     "text": [
      "78\n",
      "10\n"
     ]
    },
    {
     "name": "stderr",
     "output_type": "stream",
     "text": [
      "100%|██████████| 89/89 [00:00<00:00, 143.66it/s]\n",
      " 15%|█▍        | 13/89 [00:00<00:00, 121.95it/s]"
     ]
    },
    {
     "name": "stdout",
     "output_type": "stream",
     "text": [
      "74\n"
     ]
    },
    {
     "name": "stderr",
     "output_type": "stream",
     "text": [
      "100%|██████████| 89/89 [00:00<00:00, 136.63it/s]\n",
      "100%|██████████| 10/10 [00:00<00:00, 109.35it/s]\n"
     ]
    },
    {
     "name": "stdout",
     "output_type": "stream",
     "text": [
      "78\n",
      "10\n"
     ]
    },
    {
     "name": "stderr",
     "output_type": "stream",
     "text": [
      "100%|██████████| 89/89 [00:00<00:00, 142.41it/s]\n",
      " 13%|█▎        | 12/89 [00:00<00:00, 115.60it/s]"
     ]
    },
    {
     "name": "stdout",
     "output_type": "stream",
     "text": [
      "74\n"
     ]
    },
    {
     "name": "stderr",
     "output_type": "stream",
     "text": [
      "100%|██████████| 89/89 [00:00<00:00, 131.80it/s]\n",
      "100%|██████████| 10/10 [00:00<00:00, 119.14it/s]\n"
     ]
    },
    {
     "name": "stdout",
     "output_type": "stream",
     "text": [
      "78\n",
      "10\n"
     ]
    },
    {
     "name": "stderr",
     "output_type": "stream",
     "text": [
      "100%|██████████| 89/89 [00:00<00:00, 139.47it/s]\n",
      " 13%|█▎        | 12/89 [00:00<00:00, 115.87it/s]"
     ]
    },
    {
     "name": "stdout",
     "output_type": "stream",
     "text": [
      "74\n"
     ]
    },
    {
     "name": "stderr",
     "output_type": "stream",
     "text": [
      "100%|██████████| 89/89 [00:00<00:00, 125.23it/s]\n",
      "100%|██████████| 10/10 [00:00<00:00, 110.70it/s]\n"
     ]
    },
    {
     "name": "stdout",
     "output_type": "stream",
     "text": [
      "78\n",
      "10\n"
     ]
    },
    {
     "name": "stderr",
     "output_type": "stream",
     "text": [
      "100%|██████████| 89/89 [00:00<00:00, 134.95it/s]\n",
      " 15%|█▍        | 13/89 [00:00<00:00, 123.66it/s]"
     ]
    },
    {
     "name": "stdout",
     "output_type": "stream",
     "text": [
      "74\n"
     ]
    },
    {
     "name": "stderr",
     "output_type": "stream",
     "text": [
      "100%|██████████| 89/89 [00:00<00:00, 130.84it/s]\n",
      "100%|██████████| 10/10 [00:00<00:00, 110.12it/s]\n"
     ]
    },
    {
     "name": "stdout",
     "output_type": "stream",
     "text": [
      "78\n",
      "10\n"
     ]
    },
    {
     "name": "stderr",
     "output_type": "stream",
     "text": [
      "100%|██████████| 89/89 [00:00<00:00, 138.60it/s]\n",
      " 15%|█▍        | 13/89 [00:00<00:00, 120.28it/s]"
     ]
    },
    {
     "name": "stdout",
     "output_type": "stream",
     "text": [
      "74\n"
     ]
    },
    {
     "name": "stderr",
     "output_type": "stream",
     "text": [
      "100%|██████████| 89/89 [00:00<00:00, 128.91it/s]\n",
      "100%|██████████| 10/10 [00:00<00:00, 108.00it/s]\n"
     ]
    },
    {
     "name": "stdout",
     "output_type": "stream",
     "text": [
      "78\n",
      "10\n"
     ]
    },
    {
     "name": "stderr",
     "output_type": "stream",
     "text": [
      "100%|██████████| 89/89 [00:00<00:00, 139.20it/s]\n",
      " 15%|█▍        | 13/89 [00:00<00:00, 125.00it/s]"
     ]
    },
    {
     "name": "stdout",
     "output_type": "stream",
     "text": [
      "74\n"
     ]
    },
    {
     "name": "stderr",
     "output_type": "stream",
     "text": [
      "100%|██████████| 89/89 [00:00<00:00, 139.80it/s]\n",
      "100%|██████████| 10/10 [00:00<00:00, 121.80it/s]\n"
     ]
    },
    {
     "name": "stdout",
     "output_type": "stream",
     "text": [
      "78\n",
      "10\n"
     ]
    },
    {
     "name": "stderr",
     "output_type": "stream",
     "text": [
      "100%|██████████| 89/89 [00:00<00:00, 136.74it/s]\n",
      " 13%|█▎        | 12/89 [00:00<00:00, 117.14it/s]"
     ]
    },
    {
     "name": "stdout",
     "output_type": "stream",
     "text": [
      "74\n"
     ]
    },
    {
     "name": "stderr",
     "output_type": "stream",
     "text": [
      "100%|██████████| 89/89 [00:00<00:00, 124.82it/s]\n",
      "100%|██████████| 10/10 [00:00<00:00, 110.10it/s]\n"
     ]
    },
    {
     "name": "stdout",
     "output_type": "stream",
     "text": [
      "78\n",
      "10\n"
     ]
    },
    {
     "name": "stderr",
     "output_type": "stream",
     "text": [
      "100%|██████████| 89/89 [00:00<00:00, 141.60it/s]\n",
      " 13%|█▎        | 12/89 [00:00<00:00, 115.83it/s]"
     ]
    },
    {
     "name": "stdout",
     "output_type": "stream",
     "text": [
      "74\n"
     ]
    },
    {
     "name": "stderr",
     "output_type": "stream",
     "text": [
      "100%|██████████| 89/89 [00:00<00:00, 128.51it/s]\n",
      "100%|██████████| 10/10 [00:00<00:00, 121.24it/s]\n"
     ]
    },
    {
     "name": "stdout",
     "output_type": "stream",
     "text": [
      "78\n",
      "10\n"
     ]
    },
    {
     "name": "stderr",
     "output_type": "stream",
     "text": [
      "100%|██████████| 89/89 [00:00<00:00, 142.63it/s]\n",
      " 15%|█▍        | 13/89 [00:00<00:00, 124.76it/s]"
     ]
    },
    {
     "name": "stdout",
     "output_type": "stream",
     "text": [
      "74\n"
     ]
    },
    {
     "name": "stderr",
     "output_type": "stream",
     "text": [
      "100%|██████████| 89/89 [00:00<00:00, 140.32it/s]\n",
      "100%|██████████| 10/10 [00:00<00:00, 121.52it/s]\n"
     ]
    },
    {
     "name": "stdout",
     "output_type": "stream",
     "text": [
      "78\n",
      "10\n"
     ]
    },
    {
     "name": "stderr",
     "output_type": "stream",
     "text": [
      "100%|██████████| 89/89 [00:00<00:00, 134.86it/s]\n",
      " 13%|█▎        | 12/89 [00:00<00:00, 113.32it/s]"
     ]
    },
    {
     "name": "stdout",
     "output_type": "stream",
     "text": [
      "74\n"
     ]
    },
    {
     "name": "stderr",
     "output_type": "stream",
     "text": [
      "100%|██████████| 89/89 [00:00<00:00, 132.29it/s]\n",
      "100%|██████████| 10/10 [00:00<00:00, 117.35it/s]"
     ]
    },
    {
     "name": "stdout",
     "output_type": "stream",
     "text": [
      "78\n",
      "10\n"
     ]
    },
    {
     "name": "stderr",
     "output_type": "stream",
     "text": [
      "\n"
     ]
    }
   ],
   "source": [
    "prior_dirs = {\n",
    "    \"gauss\": gaussdirs,\n",
    "    \"sumfilter\": sumfilterdirs\n",
    "}\n",
    "\n",
    "sgd_ind_accs = {key: {} for key in sgddirs}\n",
    "sgd_ens_accs = {key: {} for key in sgddirs}\n",
    "hmc_ind_accs = {prior: {key: {} for key in dirs} \n",
    "                for prior, dirs in prior_dirs.items()}\n",
    "hmc_ens_accs = {prior: {key: {} for key in dirs} \n",
    "                for prior, dirs in prior_dirs.items()}\n",
    "pca_hmc_ind_accs = {prior: {key: {} for key in dirs} \n",
    "                for prior, dirs in prior_dirs.items()}\n",
    "pca_hmc_ens_accs = {prior: {key: {} for key in dirs} \n",
    "                for prior, dirs in prior_dirs.items()}\n",
    "\n",
    "\n",
    "for corruption in all_corruptions:\n",
    "    for intensity in [3]:\n",
    "        noisy_test_set, _, _ = make_cifar10c_pmap_fullbatch(corruption, intensity, dtype)\n",
    "        test_labels = noisy_test_set[1]\n",
    "        \n",
    "        for prior, dirs in prior_dirs.items():\n",
    "            for key, path in dirs.items():\n",
    "                hmc_predictions, predictions = predict_hmc(noisy_test_set, path)\n",
    "                if hmc_predictions is None:\n",
    "                    continue\n",
    "                hmc_ens_accs[prior][key][corruption, intensity] = metrics.accuracy(hmc_predictions, test_labels)\n",
    "                hmc_ind_accs[prior][key][corruption, intensity] = metrics.accuracy(predictions, test_labels)\n",
    "                \n",
    "#                 hmc_predictions, predictions = predict_hmc(noisy_test_set, path, adjust_pca=True)\n",
    "#                 if hmc_predictions is None:\n",
    "#                     continue\n",
    "#                 pca_hmc_ens_accs[prior][key][corruption, intensity] = metrics.accuracy(hmc_predictions, test_labels)\n",
    "#                 pca_hmc_ind_accs[prior][key][corruption, intensity] = metrics.accuracy(predictions, test_labels)\n",
    "\n",
    "        for key, pathdict in sgddirs.items():\n",
    "            de_predictions, predictions = predict_de(noisy_test_set, pathdict)\n",
    "            sgd_ind_accs[key][corruption, intensity] = metrics.accuracy(predictions, test_labels)\n",
    "            sgd_ens_accs[key][corruption, intensity] = metrics.accuracy(de_predictions, test_labels)"
   ]
  },
  {
   "cell_type": "code",
   "execution_count": 21,
   "metadata": {},
   "outputs": [
    {
     "name": "stderr",
     "output_type": "stream",
     "text": [
      "100%|██████████| 89/89 [00:00<00:00, 138.35it/s]\n",
      " 13%|█▎        | 12/89 [00:00<00:00, 119.87it/s]"
     ]
    },
    {
     "name": "stdout",
     "output_type": "stream",
     "text": [
      "74\n"
     ]
    },
    {
     "name": "stderr",
     "output_type": "stream",
     "text": [
      "100%|██████████| 89/89 [00:00<00:00, 127.32it/s]\n",
      "100%|██████████| 10/10 [00:00<00:00, 116.11it/s]\n",
      "  0%|          | 0/10 [00:00<?, ?it/s]"
     ]
    },
    {
     "name": "stdout",
     "output_type": "stream",
     "text": [
      "78\n",
      "10\n"
     ]
    },
    {
     "name": "stderr",
     "output_type": "stream",
     "text": [
      "100%|██████████| 10/10 [00:00<00:00, 111.94it/s]\n"
     ]
    },
    {
     "name": "stdout",
     "output_type": "stream",
     "text": [
      "10\n"
     ]
    },
    {
     "name": "stderr",
     "output_type": "stream",
     "text": [
      "/home/pavel/google-research/bnn_hmc/utils/data_utils.py:296: UserWarning: Dataset of length 4500 can not be split onto 8 devices.Truncating to 4496 data points.\n",
      "  warnings.warn(warning_str, UserWarning)\n",
      "100%|██████████| 89/89 [00:03<00:00, 25.86it/s]\n"
     ]
    },
    {
     "name": "stdout",
     "output_type": "stream",
     "text": [
      "74\n"
     ]
    },
    {
     "name": "stderr",
     "output_type": "stream",
     "text": [
      "100%|██████████| 89/89 [00:00<00:00, 139.83it/s]\n",
      "100%|██████████| 10/10 [00:00<00:00, 110.32it/s]\n",
      "  0%|          | 0/10 [00:00<?, ?it/s]"
     ]
    },
    {
     "name": "stdout",
     "output_type": "stream",
     "text": [
      "78\n",
      "10\n"
     ]
    },
    {
     "name": "stderr",
     "output_type": "stream",
     "text": [
      "\r",
      "100%|██████████| 10/10 [00:00<00:00, 115.40it/s]"
     ]
    },
    {
     "name": "stdout",
     "output_type": "stream",
     "text": [
      "10\n"
     ]
    },
    {
     "name": "stderr",
     "output_type": "stream",
     "text": [
      "\n"
     ]
    }
   ],
   "source": [
    "datasets = [\"CIFAR10\", \"stl10_like_cifar\"]\n",
    "\n",
    "\n",
    "for ds_name in datasets:\n",
    "    dtype = jnp.float32\n",
    "    train_set, test_set, task, data_info = data_utils.make_ds_pmap_fullbatch(\n",
    "        ds_name, dtype)\n",
    "    test_labels = test_set[1]\n",
    "\n",
    "\n",
    "    for prior, dirs in prior_dirs.items():\n",
    "        for key, path in dirs.items():\n",
    "            hmc_predictions, predictions = predict_hmc(test_set, path)\n",
    "            if hmc_predictions is None:\n",
    "                continue\n",
    "            for intensity in range(1, 6):\n",
    "                hmc_ens_accs[prior][key][ds_name.upper(), intensity] = metrics.accuracy(hmc_predictions, test_labels)\n",
    "                hmc_ind_accs[prior][key][ds_name.upper(), intensity] = metrics.accuracy(predictions, test_labels)\n",
    "                \n",
    "#             hmc_predictions, predictions = predict_hmc(test_set, path, adjust_pca=True)\n",
    "#             for intensity in range(1, 6):\n",
    "#                 pca_hmc_ens_accs[prior][key][ds_name.upper(), intensity] = metrics.accuracy(hmc_predictions, test_labels)\n",
    "#                 pca_hmc_ind_accs[prior][key][ds_name.upper(), intensity] = metrics.accuracy(predictions, test_labels)\n",
    "                \n",
    "    for corruption in datasets:\n",
    "        de_predictions, predictions = predict_de(test_set, pathdict)\n",
    "        for intensity in range(1, 6):\n",
    "            sgd_ind_accs[key][ds_name.upper(), intensity] = metrics.accuracy(predictions, test_labels)\n",
    "            sgd_ens_accs[key][ds_name.upper(), intensity] = metrics.accuracy(de_predictions, test_labels)"
   ]
  },
  {
   "cell_type": "code",
   "execution_count": 23,
   "metadata": {},
   "outputs": [
    {
     "data": {
      "image/png": "[encoded data removed]",
      "text/plain": [
       "<Figure size 216x504 with 1 Axes>"
      ]
     },
     "metadata": {
      "needs_background": "light"
     },
     "output_type": "display_data"
    }
   ],
   "source": [
    "cmap = matplotlib.cm.get_cmap(\"tab20\")\n",
    "\n",
    "num_bars = 4\n",
    "width = 0.8 / num_bars\n",
    "\n",
    "plt.figure(figsize=(3, 7))\n",
    "all_corruptions_ = onp.unique([k[0] for k in hmc_ens_accs[\"gauss\"][100.]])\n",
    "\n",
    "ys = onp.arange(len(all_corruptions_))\n",
    "\n",
    "std = onp.sqrt(1 / wd)\n",
    "plt.barh(ys, [hmc_ens_accs[\"gauss\"][wd][c, 3] for c in all_corruptions_],\n",
    "    height=width, label=\"HMC Gaussian\".format(std), color=cmap(0)\n",
    ")\n",
    "plt.barh(ys + width, [hmc_ens_accs[\"sumfilter\"][wd][c, 3] for c in all_corruptions_],\n",
    "    height=width, label=\"HMC PCA Prior\".format(std), color=cmap(1)\n",
    ")\n",
    "# plt.barh(ys + width, [pca_hmc_ens_accs[\"gauss\"][wd][c, 3] for c in all_corruptions_],\n",
    "#     height=width, label=\"HMC PCA\".format(std), color=cmap(1)\n",
    "# )\n",
    "    \n",
    "plt.barh(ys + 2 * width, [sgd_ind_accs[100][c, 3] for c in all_corruptions_],\n",
    "        height=width, label=\"SGD\", color=\"k\" #cmap(len(wds)+1)\n",
    "    )\n",
    "plt.barh(ys + 3 * width, [sgd_ens_accs[100][c, 3] for c in all_corruptions_],\n",
    "        height=width, label=\"DE\", color=\"grey\" #cmap(len(wds)+1)\n",
    "    )\n",
    "\n",
    "plt.ylim(-0.15, 21.05)\n",
    "plt.legend(loc=(1, 0))\n",
    "plt.yticks(ys+0.4, all_corruptions_, rotation=0);\n",
    "# plt.savefig(\"gaussian_priors_mnistc.pdf\", bbox_inches=\"tight\")"
   ]
  },
  {
   "cell_type": "markdown",
   "metadata": {},
   "source": [
    "## Filter visualization"
   ]
  },
  {
   "cell_type": "code",
   "execution_count": 18,
   "metadata": {},
   "outputs": [],
   "source": [
    "# path = os.path.join(gaussdirs[100.], \"model_step_90.pt\")\n",
    "path = os.path.join(sumfilterdirs[100.], \"model_step_12.pt\")\n",
    "\n",
    "checkpoint_dict = checkpoint_utils.load_checkpoint(path)\n",
    "_, params, net_state, _, _, accepted, _, _ = (\n",
    "    checkpoint_utils.parse_hmc_checkpoint_dict(checkpoint_dict))"
   ]
  },
  {
   "cell_type": "code",
   "execution_count": 19,
   "metadata": {},
   "outputs": [
    {
     "data": {
      "text/plain": [
       "KeysOnlyKeysView(['conv2_d', 'conv2_d_1', 'linear', 'linear_1', 'linear_2'])"
      ]
     },
     "execution_count": 19,
     "metadata": {},
     "output_type": "execute_result"
    }
   ],
   "source": [
    "params.keys()"
   ]
  },
  {
   "cell_type": "code",
   "execution_count": 20,
   "metadata": {},
   "outputs": [
    {
     "name": "stdout",
     "output_type": "stream",
     "text": [
      "(5, 5, 3, 6)\n"
     ]
    },
    {
     "data": {
      "image/png": "[encoded data removed]",
      "text/plain": [
       "<Figure size 720x360 with 6 Axes>"
      ]
     },
     "metadata": {
      "needs_background": "light"
     },
     "output_type": "display_data"
    }
   ],
   "source": [
    "w = params['conv2_d']['w']\n",
    "print(w.shape)\n",
    "\n",
    "f, arr = plt.subplots(2, 3, figsize=(10, 5))\n",
    "for i in range(2):\n",
    "    for j in range(3):\n",
    "        arr[i, j].imshow(w[:, :, 0, i + 2 * j])"
   ]
  },
  {
   "cell_type": "code",
   "execution_count": 21,
   "metadata": {},
   "outputs": [
    {
     "name": "stdout",
     "output_type": "stream",
     "text": [
      "(576, 120)\n"
     ]
    },
    {
     "data": {
      "image/png": "[encoded data removed]",
      "text/plain": [
       "<Figure size 720x360 with 6 Axes>"
      ]
     },
     "metadata": {
      "needs_background": "light"
     },
     "output_type": "display_data"
    }
   ],
   "source": [
    "w = params['linear']['w']\n",
    "print(w.shape)\n",
    "\n",
    "f, arr = plt.subplots(2, 3, figsize=(10, 5))\n",
    "for i in range(2):\n",
    "    for j in range(3):\n",
    "        arr[i, j].imshow(w[:, i + 2 * j].reshape(24, 24))"
   ]
  },
  {
   "cell_type": "markdown",
   "metadata": {},
   "source": [
    "### SGD"
   ]
  },
  {
   "cell_type": "code",
   "execution_count": 22,
   "metadata": {},
   "outputs": [],
   "source": [
    "path = sgddirs[100.][2.0]\n",
    "checkpoint_dict = checkpoint_utils.load_checkpoint(path)\n",
    "_, params, net_state, _, _ = (\n",
    "    checkpoint_utils.parse_sgd_checkpoint_dict(checkpoint_dict))"
   ]
  },
  {
   "cell_type": "code",
   "execution_count": 23,
   "metadata": {},
   "outputs": [
    {
     "name": "stdout",
     "output_type": "stream",
     "text": [
      "(5, 5, 6, 16)\n"
     ]
    },
    {
     "data": {
      "image/png": "[encoded data removed]",
      "text/plain": [
       "<Figure size 720x360 with 6 Axes>"
      ]
     },
     "metadata": {
      "needs_background": "light"
     },
     "output_type": "display_data"
    }
   ],
   "source": [
    "w = params['conv2_d_1']['w']\n",
    "print(w.shape)\n",
    "\n",
    "f, arr = plt.subplots(2, 3, figsize=(10, 5))\n",
    "for i in range(2):\n",
    "    for j in range(3):\n",
    "        arr[i, j].imshow(w[:, :, 0, i + 2 * j])"
   ]
  },
  {
   "cell_type": "code",
   "execution_count": 49,
   "metadata": {},
   "outputs": [
    {
     "name": "stdout",
     "output_type": "stream",
     "text": [
      "(576, 120)\n"
     ]
    },
    {
     "data": {
      "image/png": "[encoded data removed]",
      "text/plain": [
       "<Figure size 720x360 with 6 Axes>"
      ]
     },
     "metadata": {
      "needs_background": "light"
     },
     "output_type": "display_data"
    }
   ],
   "source": [
    "w = params['linear']['w']\n",
    "print(w.shape)\n",
    "\n",
    "f, arr = plt.subplots(2, 3, figsize=(10, 5))\n",
    "for i in range(2):\n",
    "    for j in range(3):\n",
    "        arr[i, j].imshow(w[:, i + 2 * j].reshape(24, 24))"
   ]
  },
  {
   "cell_type": "code",
   "execution_count": 111,
   "metadata": {},
   "outputs": [
    {
     "data": {
      "text/plain": [
       "FlatMapping({\n",
       "  'conv2_d': FlatMapping({\n",
       "               'b': DeviceArray(0.17039812, dtype=float32),\n",
       "               'w': DeviceArray(0.28325346, dtype=float32),\n",
       "             }),\n",
       "  'conv2_d_1': FlatMapping({\n",
       "                 'b': DeviceArray(0.02292008, dtype=float32),\n",
       "                 'w': DeviceArray(0.07301848, dtype=float32),\n",
       "               }),\n",
       "  'linear': FlatMapping({\n",
       "              'b': DeviceArray(0.00609982, dtype=float32),\n",
       "              'w': DeviceArray(0.01783383, dtype=float32),\n",
       "            }),\n",
       "  'linear_1': FlatMapping({\n",
       "                'b': DeviceArray(0.01093635, dtype=float32),\n",
       "                'w': DeviceArray(0.03525899, dtype=float32),\n",
       "              }),\n",
       "  'linear_2': FlatMapping({\n",
       "                'b': DeviceArray(0.01835718, dtype=float32),\n",
       "                'w': DeviceArray(0.12083421, dtype=float32),\n",
       "              }),\n",
       "})"
      ]
     },
     "execution_count": 111,
     "metadata": {},
     "output_type": "execute_result"
    }
   ],
   "source": [
    "sgd_effective_sigmas = jax.tree_map(lambda p: jnp.linalg.norm(p) / jnp.sqrt(p.size), params)\n",
    "sgd_effective_sigmas"
   ]
  },
  {
   "cell_type": "markdown",
   "metadata": {},
   "source": [
    "## Weight PCA Projections"
   ]
  },
  {
   "cell_type": "code",
   "execution_count": 8,
   "metadata": {},
   "outputs": [],
   "source": [
    "wd = 100\n",
    "prior_std = 1 / onp.sqrt(wd)"
   ]
  },
  {
   "cell_type": "code",
   "execution_count": 9,
   "metadata": {},
   "outputs": [],
   "source": [
    "w = None\n",
    "base_path = os.path.join(gaussdirs[100.], \"model_step_{}.pt\")\n",
    "for step in range(20, 99):\n",
    "    path = base_path.format(step)\n",
    "    checkpoint_dict = checkpoint_utils.load_checkpoint(path)\n",
    "    if checkpoint_dict[\"accepted\"]:\n",
    "        params = checkpoint_dict[\"params\"]\n",
    "        cur_w = onp.asarray(params[\"conv2_d\"][\"w\"].reshape((75, -1)))\n",
    "        cur_w = cur_w.transpose(1, 0)\n",
    "        if w is None:\n",
    "            w = cur_w.copy()\n",
    "        else:\n",
    "            w = onp.concatenate([w, cur_w.copy()], axis=0)"
   ]
  },
  {
   "cell_type": "code",
   "execution_count": 10,
   "metadata": {},
   "outputs": [],
   "source": [
    "arr = onp.load(\"cifar10_patch_pca.npz\")\n",
    "basis = arr[\"components\"]"
   ]
  },
  {
   "cell_type": "code",
   "execution_count": 11,
   "metadata": {},
   "outputs": [],
   "source": [
    "projections = (w[:, None, :] * basis[None, :, :]).sum(-1)\n",
    "mean = onp.mean(projections, axis=0)\n",
    "std = onp.std(projections, axis=0)"
   ]
  },
  {
   "cell_type": "code",
   "execution_count": 12,
   "metadata": {},
   "outputs": [
    {
     "data": {
      "text/plain": [
       "Text(0.5, 1.0, 'HMC samples, wd=100')"
      ]
     },
     "execution_count": 12,
     "metadata": {},
     "output_type": "execute_result"
    },
    {
     "data": {
      "image/png": "[encoded data removed]",
      "text/plain": [
       "<Figure size 432x288 with 1 Axes>"
      ]
     },
     "metadata": {
      "needs_background": "light"
     },
     "output_type": "display_data"
    }
   ],
   "source": [
    "plt.plot(mean + 2 * std, \"b\")\n",
    "plt.plot(mean - 2 * std, \"b\")\n",
    "plt.fill_between(onp.arange(75), mean + 2 * std, mean - 2 * std, color=\"b\", alpha=0.3)\n",
    "for p in projections:\n",
    "    plt.plot(p, \"--b\", alpha=0.02)\n",
    "plt.grid()\n",
    "\n",
    "plt.hlines(2 * prior_std, 0, 75, color=\"k\", linestyle=\"dashed\", lw=3)\n",
    "plt.hlines(-2 * prior_std, 0, 75, color=\"k\", linestyle=\"dashed\", lw=3)\n",
    "\n",
    "plt.xlim(0, 75)\n",
    "plt.xlabel(\"PCA component\")\n",
    "plt.ylabel(\"Projection of filter on PCA component\")\n",
    "plt.title(\"HMC samples, wd={}\".format(wd))"
   ]
  },
  {
   "cell_type": "markdown",
   "metadata": {},
   "source": [
    "## Sum-filter / pca prior"
   ]
  },
  {
   "cell_type": "code",
   "execution_count": 13,
   "metadata": {},
   "outputs": [],
   "source": [
    "w = None\n",
    "base_path = os.path.join(sumfilterdirs[100.], \"model_step_{}.pt\")\n",
    "for step in range(20, 99):\n",
    "    path = base_path.format(step)\n",
    "    checkpoint_dict = checkpoint_utils.load_checkpoint(path)\n",
    "    if checkpoint_dict[\"accepted\"]:\n",
    "        params = checkpoint_dict[\"params\"]\n",
    "        cur_w = onp.asarray(params[\"conv2_d\"][\"w\"].reshape((75, -1)))\n",
    "        cur_w = cur_w.transpose(1, 0)\n",
    "        if w is None:\n",
    "            w = cur_w.copy()\n",
    "        else:\n",
    "            w = onp.concatenate([w, cur_w.copy()], axis=0)"
   ]
  },
  {
   "cell_type": "code",
   "execution_count": 15,
   "metadata": {},
   "outputs": [],
   "source": [
    "projections = (w[:, None, :] * basis[None, :, :]).sum(-1)\n",
    "mean = onp.mean(projections, axis=0)\n",
    "std = onp.std(projections, axis=0)"
   ]
  },
  {
   "cell_type": "code",
   "execution_count": 16,
   "metadata": {},
   "outputs": [
    {
     "data": {
      "text/plain": [
       "Text(0.5, 1.0, 'HMC samples, wd=100')"
      ]
     },
     "execution_count": 16,
     "metadata": {},
     "output_type": "execute_result"
    },
    {
     "data": {
      "image/png": "[encoded data removed]",
      "text/plain": [
       "<Figure size 432x288 with 1 Axes>"
      ]
     },
     "metadata": {
      "needs_background": "light"
     },
     "output_type": "display_data"
    }
   ],
   "source": [
    "plt.plot(mean + 2 * std, \"b\")\n",
    "plt.plot(mean - 2 * std, \"b\")\n",
    "plt.fill_between(onp.arange(75), mean + 2 * std, mean - 2 * std, color=\"b\", alpha=0.3)\n",
    "for p in projections:\n",
    "    plt.plot(p, \"--b\", alpha=0.02)\n",
    "plt.grid()\n",
    "\n",
    "plt.hlines(2 * prior_std, 0, 75, color=\"k\", linestyle=\"dashed\", lw=3)\n",
    "plt.hlines(-2 * prior_std, 0, 75, color=\"k\", linestyle=\"dashed\", lw=3)\n",
    "\n",
    "plt.xlim(0, 75)\n",
    "plt.xlabel(\"PCA component\")\n",
    "plt.ylabel(\"Projection of filter on PCA component\")\n",
    "plt.title(\"HMC samples, wd={}\".format(wd))"
   ]
  },
  {
   "cell_type": "code",
   "execution_count": null,
   "metadata": {},
   "outputs": [],
   "source": []
  }
 ],
 "metadata": {
  "kernelspec": {
   "display_name": "Python 3",
   "language": "python",
   "name": "python3"
  },
  "language_info": {
   "codemirror_mode": {
    "name": "ipython",
    "version": 3
   },
   "file_extension": ".py",
   "mimetype": "text/x-python",
   "name": "python",
   "nbconvert_exporter": "python",
   "pygments_lexer": "ipython3",
   "version": "3.8.5"
  }
 },
 "nbformat": 4,
 "nbformat_minor": 5
}
