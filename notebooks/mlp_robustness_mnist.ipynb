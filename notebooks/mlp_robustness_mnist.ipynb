{
 "cells": [
  {
   "cell_type": "markdown",
   "metadata": {},
   "source": [
    "# MLP robustness on MNIST\n",
    "\n",
    "In this notebook we evaluate the samples we collected over different runs on MNIST."
   ]
  },
  {
   "cell_type": "code",
   "execution_count": 36,
   "metadata": {},
   "outputs": [],
   "source": [
    "import os\n",
    "from jax import numpy as jnp\n",
    "import numpy as onp\n",
    "import jax\n",
    "import tensorflow.compat.v2 as tf\n",
    "import argparse\n",
    "import time\n",
    "import tqdm\n",
    "from collections import OrderedDict\n",
    "\n",
    "from bnn_hmc.utils import data_utils\n",
    "from bnn_hmc.utils import models\n",
    "from bnn_hmc.utils import metrics\n",
    "from bnn_hmc.utils import losses\n",
    "from bnn_hmc.utils import checkpoint_utils\n",
    "from bnn_hmc.utils import cmd_args_utils\n",
    "from bnn_hmc.utils import logging_utils\n",
    "from bnn_hmc.utils import train_utils\n",
    "from bnn_hmc.utils import precision_utils\n",
    "\n",
    "from itertools import chain\n",
    "\n",
    "from matplotlib import pyplot as plt\n",
    "import matplotlib\n",
    "\n",
    "%matplotlib inline"
   ]
  },
  {
   "cell_type": "code",
   "execution_count": 2,
   "metadata": {},
   "outputs": [],
   "source": [
    "dtype = jnp.float32\n",
    "train_set, test_set, task, data_info = data_utils.make_ds_pmap_fullbatch(\n",
    "    \"mnist\", dtype)\n",
    "test_labels = test_set[1]\n",
    "\n",
    "net_apply, net_init = models.get_model(\"mlp_classification\", data_info)\n",
    "net_apply = precision_utils.rewrite_high_precision(net_apply)\n",
    "(_, predict_fn, ensemble_upd_fn, _,_) = train_utils.get_task_specific_fns(task, data_info)"
   ]
  },
  {
   "cell_type": "code",
   "execution_count": 3,
   "metadata": {},
   "outputs": [],
   "source": [
    "def predict_hmc(ds, basepath):\n",
    "    basepath = os.path.join(basepath, \"model_step_{}.pt\")\n",
    "    ensemble_predictions = None\n",
    "    num_ensembled = 0\n",
    "    last_test_predictions = None\n",
    "    for i in tqdm.tqdm(range(11, 100)):\n",
    "        path = basepath.format(i)\n",
    "        try:\n",
    "            checkpoint_dict = checkpoint_utils.load_checkpoint(path)\n",
    "        except:\n",
    "            continue\n",
    "        _, params, net_state, _, _, accepted, _, _ = (\n",
    "            checkpoint_utils.parse_hmc_checkpoint_dict(checkpoint_dict))\n",
    "        if accepted:\n",
    "            _, test_predictions = onp.asarray(\n",
    "                predict_fn(net_apply, params, net_state, ds))\n",
    "            ensemble_predictions = ensemble_upd_fn(\n",
    "                ensemble_predictions, num_ensembled, test_predictions)\n",
    "            num_ensembled += 1\n",
    "            last_test_predictions = test_predictions\n",
    "    print(num_ensembled)\n",
    "    return ensemble_predictions, last_test_predictions\n",
    "        "
   ]
  },
  {
   "cell_type": "code",
   "execution_count": 18,
   "metadata": {},
   "outputs": [
    {
     "data": {
      "text/plain": [
       "{1.0: '../runs/hmc/mnist/gaussian/model_mlp_classification_wd_1.0_stepsize_0.00010471975511965977_trajlen_1.5707963267948966_burnin_10_mh_True_temp_1.0_seed_11',\n",
       " 3.0: '../runs/hmc/mnist/gaussian/model_mlp_classification_wd_3.0_stepsize_6.045997880780726e-05_trajlen_0.9068996821171089_burnin_10_mh_True_temp_1.0_seed_11',\n",
       " 10.0: '../runs/hmc/mnist/gaussian/model_mlp_classification_wd_10.0_stepsize_3.311529421932033e-05_trajlen_0.496729413289805_burnin_10_mh_True_temp_1.0_seed_11',\n",
       " 30.0: '../runs/hmc/mnist/gaussian/model_mlp_classification_wd_30.0_stepsize_1.9119124031818254e-05_trajlen_0.2867868604772738_burnin_10_mh_True_temp_1.0_seed_11',\n",
       " 100.0: '../runs/hmc/mnist/gaussian/model_mlp_classification_wd_100.0_stepsize_1.0471975511965977e-05_trajlen_0.15707963267948966_burnin_10_mh_True_temp_1.0_seed_11',\n",
       " 0.3: '../runs/hmc/mnist/gaussian/model_mlp_classification_wd_0.3_stepsize_0.00019119124031818254_trajlen_2.867868604772738_burnin_10_mh_True_temp_1.0_seed_11',\n",
       " 0.1: '../runs/hmc/mnist/gaussian/model_mlp_classification_wd_0.1_stepsize_0.00033115294219320337_trajlen_4.967294132898051_burnin_10_mh_True_temp_1.0_seed_11'}"
      ]
     },
     "execution_count": 18,
     "metadata": {},
     "output_type": "execute_result"
    }
   ],
   "source": [
    "alldirs = {}\n",
    "prefix = \"../runs/hmc/mnist/gaussian\"\n",
    "dirs = os.listdir(prefix)\n",
    "for path in dirs:\n",
    "    full_path = os.path.join(prefix, path)\n",
    "    wd = float(full_path.split(\"_\")[4])\n",
    "    stepsize = float(full_path.split(\"_\")[6])\n",
    "    trajlen = float(full_path.split(\"_\")[8])\n",
    "#     name = \"Gaussian wd={} T=1\".format(wd, stepsize)\n",
    "    alldirs[wd] = full_path\n",
    "        \n",
    "alldirs"
   ]
  },
  {
   "cell_type": "code",
   "execution_count": 19,
   "metadata": {},
   "outputs": [
    {
     "data": {
      "text/plain": [
       "{'SGD wd= 10.0': '../runs/sgd/mnist/sgd_mom_0.9__lr_sch_i_1e-07___epochs_100_wd_10.0_batchsize_80_temp_1.0__seed_0/model_step_99.pt',\n",
       " 'SGD wd= 3000.0': '../runs/sgd/mnist/sgd_mom_0.9__lr_sch_i_1e-07___epochs_100_wd_3000.0_batchsize_80_temp_1.0__seed_0/model_step_99.pt',\n",
       " 'SGD wd= 0.03': '../runs/sgd/mnist/sgd_mom_0.9__lr_sch_i_1e-07___epochs_100_wd_0.03_batchsize_80_temp_1.0__seed_0/model_step_99.pt',\n",
       " 'SGD wd= 1000.0': '../runs/sgd/mnist/sgd_mom_0.9__lr_sch_i_1e-07___epochs_100_wd_1000.0_batchsize_80_temp_1.0__seed_0/model_step_99.pt',\n",
       " 'SGD wd= 1.0': '../runs/sgd/mnist/sgd_mom_0.9__lr_sch_i_1e-07___epochs_100_wd_1.0_batchsize_80_temp_1.0__seed_0/model_step_99.pt',\n",
       " 'SGD wd= 300.0': '../runs/sgd/mnist/sgd_mom_0.9__lr_sch_i_1e-07___epochs_100_wd_300.0_batchsize_80_temp_1.0__seed_0/model_step_99.pt',\n",
       " 'SGD wd= 100.0': '../runs/sgd/mnist/sgd_mom_0.9__lr_sch_i_1e-07___epochs_100_wd_100.0_batchsize_80_temp_1.0__seed_0/model_step_99.pt',\n",
       " 'SGD wd= 3.0': '../runs/sgd/mnist/sgd_mom_0.9__lr_sch_i_1e-07___epochs_100_wd_3.0_batchsize_80_temp_1.0__seed_0/model_step_99.pt',\n",
       " 'SGD wd= 0.1': '../runs/sgd/mnist/sgd_mom_0.9__lr_sch_i_1e-07___epochs_100_wd_0.1_batchsize_80_temp_1.0__seed_0/model_step_99.pt'}"
      ]
     },
     "execution_count": 19,
     "metadata": {},
     "output_type": "execute_result"
    }
   ],
   "source": [
    "sgddirs = {}\n",
    "prefix = \"../runs/sgd/mnist/\"\n",
    "\n",
    "dirs = os.listdir(prefix)\n",
    "for path in dirs:\n",
    "    if path[:3] != \"sgd\":\n",
    "        continue\n",
    "    full_path = os.path.join(prefix, path, \"model_step_99.pt\")\n",
    "    wd = float(full_path.split(\"_\")[13])\n",
    "    name = \"SGD wd= {}\".format(wd)\n",
    "    sgddirs[name] = full_path\n",
    "        \n",
    "sgddirs"
   ]
  },
  {
   "cell_type": "markdown",
   "metadata": {},
   "source": [
    "## Gaussian Noise"
   ]
  },
  {
   "cell_type": "code",
   "execution_count": 100,
   "metadata": {
    "scrolled": true
   },
   "outputs": [
    {
     "name": "stderr",
     "output_type": "stream",
     "text": [
      "100%|██████████| 89/89 [00:00<00:00, 816.65it/s]\n",
      " 26%|██▌       | 23/89 [00:00<00:00, 219.00it/s]"
     ]
    },
    {
     "name": "stdout",
     "output_type": "stream",
     "text": [
      "10\n"
     ]
    },
    {
     "name": "stderr",
     "output_type": "stream",
     "text": [
      "100%|██████████| 89/89 [00:00<00:00, 235.21it/s]\n",
      " 19%|█▉        | 17/89 [00:00<00:00, 169.40it/s]"
     ]
    },
    {
     "name": "stdout",
     "output_type": "stream",
     "text": [
      "56\n"
     ]
    },
    {
     "name": "stderr",
     "output_type": "stream",
     "text": [
      "100%|██████████| 89/89 [00:00<00:00, 150.87it/s]\n",
      " 16%|█▌        | 14/89 [00:00<00:00, 125.64it/s]"
     ]
    },
    {
     "name": "stdout",
     "output_type": "stream",
     "text": [
      "81\n"
     ]
    },
    {
     "name": "stderr",
     "output_type": "stream",
     "text": [
      "100%|██████████| 89/89 [00:00<00:00, 152.41it/s]\n",
      " 18%|█▊        | 16/89 [00:00<00:00, 157.87it/s]"
     ]
    },
    {
     "name": "stdout",
     "output_type": "stream",
     "text": [
      "88\n"
     ]
    },
    {
     "name": "stderr",
     "output_type": "stream",
     "text": [
      "100%|██████████| 89/89 [00:00<00:00, 147.63it/s]\n",
      "100%|██████████| 89/89 [00:00<00:00, 8219.42it/s]\n",
      "100%|██████████| 89/89 [00:00<00:00, 94028.48it/s]\n",
      " 83%|████████▎ | 74/89 [00:00<00:00, 737.48it/s]"
     ]
    },
    {
     "name": "stdout",
     "output_type": "stream",
     "text": [
      "88\n",
      "0\n",
      "0\n"
     ]
    },
    {
     "name": "stderr",
     "output_type": "stream",
     "text": [
      "100%|██████████| 89/89 [00:00<00:00, 769.06it/s]\n",
      " 25%|██▍       | 22/89 [00:00<00:00, 210.93it/s]"
     ]
    },
    {
     "name": "stdout",
     "output_type": "stream",
     "text": [
      "10\n"
     ]
    },
    {
     "name": "stderr",
     "output_type": "stream",
     "text": [
      "100%|██████████| 89/89 [00:00<00:00, 217.40it/s]\n",
      "  7%|▋         | 6/89 [00:00<00:01, 54.73it/s]"
     ]
    },
    {
     "name": "stdout",
     "output_type": "stream",
     "text": [
      "56\n"
     ]
    },
    {
     "name": "stderr",
     "output_type": "stream",
     "text": [
      "100%|██████████| 89/89 [00:00<00:00, 131.71it/s]\n",
      " 16%|█▌        | 14/89 [00:00<00:00, 137.62it/s]"
     ]
    },
    {
     "name": "stdout",
     "output_type": "stream",
     "text": [
      "81\n"
     ]
    },
    {
     "name": "stderr",
     "output_type": "stream",
     "text": [
      "100%|██████████| 89/89 [00:00<00:00, 143.32it/s]\n",
      " 18%|█▊        | 16/89 [00:00<00:00, 154.38it/s]"
     ]
    },
    {
     "name": "stdout",
     "output_type": "stream",
     "text": [
      "88\n"
     ]
    },
    {
     "name": "stderr",
     "output_type": "stream",
     "text": [
      "100%|██████████| 89/89 [00:00<00:00, 151.98it/s]\n",
      "100%|██████████| 89/89 [00:00<00:00, 8211.10it/s]\n",
      "100%|██████████| 89/89 [00:00<00:00, 80957.07it/s]\n",
      "100%|██████████| 89/89 [00:00<00:00, 842.59it/s]\n"
     ]
    },
    {
     "name": "stdout",
     "output_type": "stream",
     "text": [
      "88\n",
      "0\n",
      "0\n",
      "10\n"
     ]
    },
    {
     "name": "stderr",
     "output_type": "stream",
     "text": [
      "100%|██████████| 89/89 [00:00<00:00, 225.39it/s]\n",
      " 20%|██        | 18/89 [00:00<00:00, 170.41it/s]"
     ]
    },
    {
     "name": "stdout",
     "output_type": "stream",
     "text": [
      "56\n"
     ]
    },
    {
     "name": "stderr",
     "output_type": "stream",
     "text": [
      "100%|██████████| 89/89 [00:00<00:00, 167.02it/s]\n",
      " 17%|█▋        | 15/89 [00:00<00:00, 138.14it/s]"
     ]
    },
    {
     "name": "stdout",
     "output_type": "stream",
     "text": [
      "81\n"
     ]
    },
    {
     "name": "stderr",
     "output_type": "stream",
     "text": [
      "100%|██████████| 89/89 [00:00<00:00, 148.74it/s]\n",
      " 17%|█▋        | 15/89 [00:00<00:00, 149.17it/s]"
     ]
    },
    {
     "name": "stdout",
     "output_type": "stream",
     "text": [
      "88\n"
     ]
    },
    {
     "name": "stderr",
     "output_type": "stream",
     "text": [
      "100%|██████████| 89/89 [00:00<00:00, 151.37it/s]\n",
      "100%|██████████| 89/89 [00:00<00:00, 8348.83it/s]\n",
      "100%|██████████| 89/89 [00:00<00:00, 119530.28it/s]\n",
      "  0%|          | 0/89 [00:00<?, ?it/s]"
     ]
    },
    {
     "name": "stdout",
     "output_type": "stream",
     "text": [
      "88\n",
      "0\n",
      "0\n"
     ]
    },
    {
     "name": "stderr",
     "output_type": "stream",
     "text": [
      "100%|██████████| 89/89 [00:00<00:00, 833.93it/s]\n",
      " 26%|██▌       | 23/89 [00:00<00:00, 217.07it/s]"
     ]
    },
    {
     "name": "stdout",
     "output_type": "stream",
     "text": [
      "10\n"
     ]
    },
    {
     "name": "stderr",
     "output_type": "stream",
     "text": [
      "100%|██████████| 89/89 [00:00<00:00, 233.72it/s]\n",
      " 20%|██        | 18/89 [00:00<00:00, 173.91it/s]"
     ]
    },
    {
     "name": "stdout",
     "output_type": "stream",
     "text": [
      "56\n"
     ]
    },
    {
     "name": "stderr",
     "output_type": "stream",
     "text": [
      "100%|██████████| 89/89 [00:00<00:00, 170.86it/s]\n",
      " 18%|█▊        | 16/89 [00:00<00:00, 159.45it/s]"
     ]
    },
    {
     "name": "stdout",
     "output_type": "stream",
     "text": [
      "81\n"
     ]
    },
    {
     "name": "stderr",
     "output_type": "stream",
     "text": [
      "100%|██████████| 89/89 [00:00<00:00, 157.75it/s]\n",
      " 16%|█▌        | 14/89 [00:00<00:00, 136.98it/s]"
     ]
    },
    {
     "name": "stdout",
     "output_type": "stream",
     "text": [
      "88\n"
     ]
    },
    {
     "name": "stderr",
     "output_type": "stream",
     "text": [
      "100%|██████████| 89/89 [00:00<00:00, 142.85it/s]\n",
      "100%|██████████| 89/89 [00:00<00:00, 8357.06it/s]\n",
      "100%|██████████| 89/89 [00:00<00:00, 121081.11it/s]\n",
      " 90%|████████▉ | 80/89 [00:00<00:00, 798.66it/s]"
     ]
    },
    {
     "name": "stdout",
     "output_type": "stream",
     "text": [
      "88\n",
      "0\n",
      "0\n"
     ]
    },
    {
     "name": "stderr",
     "output_type": "stream",
     "text": [
      "100%|██████████| 89/89 [00:00<00:00, 767.51it/s]\n",
      " 24%|██▎       | 21/89 [00:00<00:00, 205.38it/s]"
     ]
    },
    {
     "name": "stdout",
     "output_type": "stream",
     "text": [
      "10\n"
     ]
    },
    {
     "name": "stderr",
     "output_type": "stream",
     "text": [
      "100%|██████████| 89/89 [00:00<00:00, 212.53it/s]\n",
      " 17%|█▋        | 15/89 [00:00<00:00, 149.34it/s]"
     ]
    },
    {
     "name": "stdout",
     "output_type": "stream",
     "text": [
      "56\n"
     ]
    },
    {
     "name": "stderr",
     "output_type": "stream",
     "text": [
      "100%|██████████| 89/89 [00:00<00:00, 150.45it/s]\n",
      " 17%|█▋        | 15/89 [00:00<00:00, 142.68it/s]"
     ]
    },
    {
     "name": "stdout",
     "output_type": "stream",
     "text": [
      "81\n"
     ]
    },
    {
     "name": "stderr",
     "output_type": "stream",
     "text": [
      "100%|██████████| 89/89 [00:00<00:00, 138.48it/s]\n",
      " 16%|█▌        | 14/89 [00:00<00:00, 139.63it/s]"
     ]
    },
    {
     "name": "stdout",
     "output_type": "stream",
     "text": [
      "88\n"
     ]
    },
    {
     "name": "stderr",
     "output_type": "stream",
     "text": [
      "100%|██████████| 89/89 [00:00<00:00, 145.85it/s]\n",
      "100%|██████████| 89/89 [00:00<00:00, 8182.66it/s]\n",
      "100%|██████████| 89/89 [00:00<00:00, 123321.13it/s]\n",
      "100%|██████████| 89/89 [00:00<00:00, 834.33it/s]\n"
     ]
    },
    {
     "name": "stdout",
     "output_type": "stream",
     "text": [
      "88\n",
      "0\n",
      "0\n",
      "10\n"
     ]
    },
    {
     "name": "stderr",
     "output_type": "stream",
     "text": [
      "100%|██████████| 89/89 [00:00<00:00, 230.98it/s]\n",
      " 19%|█▉        | 17/89 [00:00<00:00, 168.03it/s]"
     ]
    },
    {
     "name": "stdout",
     "output_type": "stream",
     "text": [
      "56\n"
     ]
    },
    {
     "name": "stderr",
     "output_type": "stream",
     "text": [
      "100%|██████████| 89/89 [00:00<00:00, 166.33it/s]\n",
      " 18%|█▊        | 16/89 [00:00<00:00, 158.77it/s]"
     ]
    },
    {
     "name": "stdout",
     "output_type": "stream",
     "text": [
      "81\n"
     ]
    },
    {
     "name": "stderr",
     "output_type": "stream",
     "text": [
      "100%|██████████| 89/89 [00:00<00:00, 156.08it/s]\n",
      " 18%|█▊        | 16/89 [00:00<00:00, 158.44it/s]"
     ]
    },
    {
     "name": "stdout",
     "output_type": "stream",
     "text": [
      "88\n"
     ]
    },
    {
     "name": "stderr",
     "output_type": "stream",
     "text": [
      "100%|██████████| 89/89 [00:00<00:00, 157.43it/s]\n",
      "100%|██████████| 89/89 [00:00<00:00, 8249.93it/s]\n",
      "100%|██████████| 89/89 [00:00<00:00, 117981.37it/s]\n",
      "100%|██████████| 89/89 [00:00<00:00, 834.28it/s]\n"
     ]
    },
    {
     "name": "stdout",
     "output_type": "stream",
     "text": [
      "88\n",
      "0\n",
      "0\n",
      "10\n"
     ]
    },
    {
     "name": "stderr",
     "output_type": "stream",
     "text": [
      "100%|██████████| 89/89 [00:00<00:00, 236.10it/s]\n",
      " 20%|██        | 18/89 [00:00<00:00, 176.83it/s]"
     ]
    },
    {
     "name": "stdout",
     "output_type": "stream",
     "text": [
      "56\n"
     ]
    },
    {
     "name": "stderr",
     "output_type": "stream",
     "text": [
      "100%|██████████| 89/89 [00:00<00:00, 168.27it/s]\n",
      " 18%|█▊        | 16/89 [00:00<00:00, 154.92it/s]"
     ]
    },
    {
     "name": "stdout",
     "output_type": "stream",
     "text": [
      "81\n"
     ]
    },
    {
     "name": "stderr",
     "output_type": "stream",
     "text": [
      "100%|██████████| 89/89 [00:00<00:00, 154.11it/s]\n",
      " 18%|█▊        | 16/89 [00:00<00:00, 150.96it/s]"
     ]
    },
    {
     "name": "stdout",
     "output_type": "stream",
     "text": [
      "88\n"
     ]
    },
    {
     "name": "stderr",
     "output_type": "stream",
     "text": [
      "100%|██████████| 89/89 [00:00<00:00, 143.35it/s]\n",
      "100%|██████████| 89/89 [00:00<00:00, 8387.10it/s]\n",
      "100%|██████████| 89/89 [00:00<00:00, 106991.42it/s]\n",
      " 91%|█████████ | 81/89 [00:00<00:00, 780.13it/s]"
     ]
    },
    {
     "name": "stdout",
     "output_type": "stream",
     "text": [
      "88\n",
      "0\n",
      "0\n"
     ]
    },
    {
     "name": "stderr",
     "output_type": "stream",
     "text": [
      "100%|██████████| 89/89 [00:00<00:00, 817.36it/s]\n",
      " 22%|██▏       | 20/89 [00:00<00:00, 198.16it/s]"
     ]
    },
    {
     "name": "stdout",
     "output_type": "stream",
     "text": [
      "10\n"
     ]
    },
    {
     "name": "stderr",
     "output_type": "stream",
     "text": [
      "100%|██████████| 89/89 [00:00<00:00, 215.17it/s]\n",
      " 19%|█▉        | 17/89 [00:00<00:00, 167.60it/s]"
     ]
    },
    {
     "name": "stdout",
     "output_type": "stream",
     "text": [
      "56\n"
     ]
    },
    {
     "name": "stderr",
     "output_type": "stream",
     "text": [
      "100%|██████████| 89/89 [00:00<00:00, 160.59it/s]\n",
      " 17%|█▋        | 15/89 [00:00<00:00, 145.73it/s]"
     ]
    },
    {
     "name": "stdout",
     "output_type": "stream",
     "text": [
      "81\n"
     ]
    },
    {
     "name": "stderr",
     "output_type": "stream",
     "text": [
      "100%|██████████| 89/89 [00:00<00:00, 148.58it/s]\n",
      " 17%|█▋        | 15/89 [00:00<00:00, 148.08it/s]"
     ]
    },
    {
     "name": "stdout",
     "output_type": "stream",
     "text": [
      "88\n"
     ]
    },
    {
     "name": "stderr",
     "output_type": "stream",
     "text": [
      "100%|██████████| 89/89 [00:00<00:00, 150.21it/s]\n",
      "100%|██████████| 89/89 [00:00<00:00, 8367.17it/s]\n",
      "100%|██████████| 89/89 [00:00<00:00, 84340.95it/s]\n",
      "100%|██████████| 89/89 [00:00<00:00, 845.72it/s]\n",
      "  0%|          | 0/89 [00:00<?, ?it/s]"
     ]
    },
    {
     "name": "stdout",
     "output_type": "stream",
     "text": [
      "88\n",
      "0\n",
      "0\n",
      "10\n"
     ]
    },
    {
     "name": "stderr",
     "output_type": "stream",
     "text": [
      "100%|██████████| 89/89 [00:00<00:00, 238.16it/s]\n",
      " 20%|██        | 18/89 [00:00<00:00, 178.32it/s]"
     ]
    },
    {
     "name": "stdout",
     "output_type": "stream",
     "text": [
      "56\n"
     ]
    },
    {
     "name": "stderr",
     "output_type": "stream",
     "text": [
      "100%|██████████| 89/89 [00:00<00:00, 159.47it/s]\n",
      " 16%|█▌        | 14/89 [00:00<00:00, 134.55it/s]"
     ]
    },
    {
     "name": "stdout",
     "output_type": "stream",
     "text": [
      "81\n"
     ]
    },
    {
     "name": "stderr",
     "output_type": "stream",
     "text": [
      "100%|██████████| 89/89 [00:00<00:00, 146.47it/s]\n",
      " 18%|█▊        | 16/89 [00:00<00:00, 152.03it/s]"
     ]
    },
    {
     "name": "stdout",
     "output_type": "stream",
     "text": [
      "88\n"
     ]
    },
    {
     "name": "stderr",
     "output_type": "stream",
     "text": [
      "100%|██████████| 89/89 [00:00<00:00, 153.80it/s]\n",
      "100%|██████████| 89/89 [00:00<00:00, 8055.35it/s]\n",
      "100%|██████████| 89/89 [00:00<00:00, 90407.62it/s]\n",
      " 91%|█████████ | 81/89 [00:00<00:00, 770.83it/s]"
     ]
    },
    {
     "name": "stdout",
     "output_type": "stream",
     "text": [
      "88\n",
      "0\n",
      "0\n"
     ]
    },
    {
     "name": "stderr",
     "output_type": "stream",
     "text": [
      "100%|██████████| 89/89 [00:00<00:00, 807.10it/s]\n",
      " 25%|██▍       | 22/89 [00:00<00:00, 212.52it/s]"
     ]
    },
    {
     "name": "stdout",
     "output_type": "stream",
     "text": [
      "10\n"
     ]
    },
    {
     "name": "stderr",
     "output_type": "stream",
     "text": [
      "100%|██████████| 89/89 [00:00<00:00, 226.39it/s]\n",
      " 20%|██        | 18/89 [00:00<00:00, 168.89it/s]"
     ]
    },
    {
     "name": "stdout",
     "output_type": "stream",
     "text": [
      "56\n"
     ]
    },
    {
     "name": "stderr",
     "output_type": "stream",
     "text": [
      "100%|██████████| 89/89 [00:00<00:00, 162.32it/s]\n",
      " 18%|█▊        | 16/89 [00:00<00:00, 151.58it/s]"
     ]
    },
    {
     "name": "stdout",
     "output_type": "stream",
     "text": [
      "81\n"
     ]
    },
    {
     "name": "stderr",
     "output_type": "stream",
     "text": [
      "100%|██████████| 89/89 [00:00<00:00, 151.07it/s]\n",
      " 18%|█▊        | 16/89 [00:00<00:00, 150.31it/s]"
     ]
    },
    {
     "name": "stdout",
     "output_type": "stream",
     "text": [
      "88\n"
     ]
    },
    {
     "name": "stderr",
     "output_type": "stream",
     "text": [
      "100%|██████████| 89/89 [00:00<00:00, 151.73it/s]\n",
      "100%|██████████| 89/89 [00:00<00:00, 8438.86it/s]\n",
      "100%|██████████| 89/89 [00:00<00:00, 89669.24it/s]\n"
     ]
    },
    {
     "name": "stdout",
     "output_type": "stream",
     "text": [
      "88\n",
      "0\n",
      "0\n"
     ]
    }
   ],
   "source": [
    "sgd_ind_accs = {key: [] for key in sgddirs}\n",
    "hmc_ind_accs = {key: [] for key in alldirs}\n",
    "hmc_ens_accs = {key: [] for key in alldirs}\n",
    "\n",
    "noise_scales = onp.linspace(0, 10., 10)\n",
    "for noise_scale in noise_scales:\n",
    "    noisy_test_set = test_set[0] + jax.random.normal(jax.random.PRNGKey(0), test_set[0].shape) * noise_scale, test_set[1]\n",
    "    \n",
    "    for key, path in chain(alldirs.items()):\n",
    "        hmc_predictions, predictions = predict_hmc(noisy_test_set, path)\n",
    "        if hmc_predictions is None:\n",
    "            continue\n",
    "        hmc_ens_accs[key].append(metrics.accuracy(hmc_predictions, test_labels))\n",
    "        hmc_ind_accs[key].append(metrics.accuracy(predictions, test_labels))\n",
    "\n",
    "    for key, path in sgddirs.items():\n",
    "        checkpoint_dict = checkpoint_utils.load_checkpoint(path)\n",
    "        _, params, net_state, _, _ = (\n",
    "            checkpoint_utils.parse_sgd_checkpoint_dict(checkpoint_dict))\n",
    "        predictions = onp.asarray(predict_fn(net_apply, params, net_state, noisy_test_set)[1])\n",
    "        sgd_ind_accs[key].append(metrics.accuracy(predictions, test_labels))"
   ]
  },
  {
   "cell_type": "code",
   "execution_count": null,
   "metadata": {
    "scrolled": false
   },
   "outputs": [],
   "source": [
    "plt.figure(figsize=(10, 10))\n",
    "for key, _ in alldirs.items():\n",
    "    if hmc_ens_accs[key] == []:\n",
    "        continue\n",
    "    style = \"-\"\n",
    "    plt.plot(noise_scales, hmc_ens_accs[key], style, lw=2, label=key, ms=10)\n",
    "for key, _ in sgddirs.items():\n",
    "    plt.plot(noise_scales, sgd_ind_accs[key], \"--\", lw=2, label=key, ms=10)\n",
    "plt.legend(loc=(1., 0.))\n",
    "plt.ylabel(\"Test Accuracy\", fontsize=14)\n",
    "plt.xlabel(\"Noise Scale\", fontsize=14)\n",
    "plt.title(\"MNIST Robustness\", fontsize=16)"
   ]
  },
  {
   "cell_type": "code",
   "execution_count": 22,
   "metadata": {},
   "outputs": [
    {
     "data": {
      "text/plain": [
       "<matplotlib.legend.Legend at 0x7f893c1471c0>"
      ]
     },
     "execution_count": 22,
     "metadata": {},
     "output_type": "execute_result"
    },
    {
     "data": {
      "image/png": "[encoded data removed]",
      "text/plain": [
       "<Figure size 720x720 with 1 Axes>"
      ]
     },
     "metadata": {
      "needs_background": "light"
     },
     "output_type": "display_data"
    }
   ],
   "source": [
    "\n",
    "plt.figure(figsize=(10, 10))\n",
    "\n",
    "# vals = onp.stack([onp.asarray(v) for _, v in hmc_ens_accs.items() if v != []])\n",
    "# plt.plot(vals[:, 0], vals[:, -1], \"bo\")\n",
    "\n",
    "for key, _ in alldirs.items():\n",
    "    \n",
    "    marker=\"o\"\n",
    "    if hmc_ens_accs[key] == []:\n",
    "        continue\n",
    "    plt.plot(hmc_ens_accs[key][0], hmc_ens_accs[key][-1], marker, label=key)\n",
    "for key, _ in sgddirs.items():\n",
    "    plt.plot(sgd_ind_accs[key][0], sgd_ind_accs[key][-1], \"s\", label=key)\n",
    "    \n",
    "plt.xlabel(\"Original Performance\")\n",
    "plt.ylabel(\"Noise scale 10\")\n",
    "plt.grid()\n",
    "plt.legend()"
   ]
  },
  {
   "cell_type": "code",
   "execution_count": 101,
   "metadata": {},
   "outputs": [],
   "source": [
    "cmap = matplotlib.cm.get_cmap(\"tab20\")"
   ]
  },
  {
   "cell_type": "code",
   "execution_count": 102,
   "metadata": {},
   "outputs": [
    {
     "name": "stdout",
     "output_type": "stream",
     "text": [
      "0\n",
      "1\n",
      "2\n",
      "3\n",
      "4\n"
     ]
    },
    {
     "data": {
      "image/png": "[encoded data removed]",
      "text/plain": [
       "<Figure size 216x216 with 1 Axes>"
      ]
     },
     "metadata": {
      "needs_background": "light"
     },
     "output_type": "display_data"
    }
   ],
   "source": [
    "wds = sorted(alldirs)\n",
    "wds = [wd for wd in wds if hmc_ens_accs[wd] != []]\n",
    "alphas = onp.linspace(0.3, 1., len(wds))[::-1]\n",
    "\n",
    "plt.figure(figsize=(3, 3))\n",
    "for i, wd in enumerate(wds):\n",
    "    print(i)\n",
    "    std = onp.sqrt(1 / wd)\n",
    "    if hmc_ens_accs[wd] == []:\n",
    "        continue\n",
    "    plt.plot(noise_scales, hmc_ens_accs[wd], \"-\", lw=2, \n",
    "             label=\"std {:.2f}\".format(std), color=cmap(i))#, alpha=alphas[i], color=\"g\")\n",
    "\n",
    "plt.plot(noise_scales, sgd_ind_accs[\"SGD wd= 100.0\"], \"--k\", lw=2, label=\"SGD\", ms=10)\n",
    "\n",
    "plt.legend()\n",
    "plt.grid()\n",
    "plt.ylabel(\"Test Accuracy\", fontsize=14)\n",
    "plt.xlabel(\"Noise Scale\", fontsize=14)\n",
    "plt.savefig(\"gaussian_priors_gaussian_noise.pdf\", bbox_inches=\"tight\")"
   ]
  },
  {
   "cell_type": "markdown",
   "metadata": {},
   "source": [
    "## MNIST-C"
   ]
  },
  {
   "cell_type": "code",
   "execution_count": 94,
   "metadata": {},
   "outputs": [],
   "source": [
    "from bnn_hmc.utils import data_utils\n",
    "import tensorflow_datasets as tfds\n",
    "\n",
    "all_corruptions = tfds.image_classification.mnist_corrupted._CORRUPTIONS"
   ]
  },
  {
   "cell_type": "code",
   "execution_count": 95,
   "metadata": {},
   "outputs": [],
   "source": [
    "def load_image_dataset(\n",
    "    split, batch_size, name, repeat=False, shuffle=False,\n",
    "    shuffle_seed=None\n",
    "):\n",
    "    ds, dataset_info = tfds.load(name, split=split, as_supervised=True,\n",
    "                               with_info=True)\n",
    "    num_classes = dataset_info.features[\"label\"].num_classes\n",
    "    num_examples = dataset_info.splits[split].num_examples\n",
    "    num_channels = dataset_info.features['image'].shape[-1]\n",
    "    \n",
    "    def img_to_float32(image, label):\n",
    "        return tf.image.convert_image_dtype(image, tf.float32), label\n",
    "\n",
    "    ds = ds.map(img_to_float32).cache()\n",
    "    ds_stats = data_utils._ALL_IMG_DS_STATS[data_utils.ImgDatasets(\"mnist\")]\n",
    "    def img_normalize(image, label):\n",
    "        \"\"\"Normalize the image to zero mean and unit variance.\"\"\"\n",
    "        mean, std = ds_stats\n",
    "        image -= tf.constant(mean, shape=[1, 1, num_channels], dtype=image.dtype)\n",
    "        image /= tf.constant(std, shape=[1, 1, num_channels], dtype=image.dtype)\n",
    "        return image, label\n",
    "\n",
    "    ds = ds.map(img_normalize)\n",
    "    if batch_size == -1:\n",
    "        batch_size = num_examples\n",
    "    if repeat:\n",
    "        ds = ds.repeat()\n",
    "    if shuffle:\n",
    "        ds = ds.shuffle(buffer_size=10 * batch_size, seed=shuffle_seed)\n",
    "    ds = ds.batch(batch_size)\n",
    "    return tfds.as_numpy(ds), num_classes, num_examples\n",
    "\n",
    "\n",
    "def get_image_dataset(name):\n",
    "\n",
    "    test_set, n_classes, _ = load_image_dataset(\"test\", -1, name)\n",
    "    test_set = next(iter(test_set))\n",
    "    \n",
    "    data_info = {\n",
    "        \"num_classes\": n_classes\n",
    "    }\n",
    "\n",
    "    return test_set, data_info\n",
    "\n",
    "\n",
    "def pmap_dataset(ds, n_devices):\n",
    "    return jax.pmap(lambda x: x)(data_utils.batch_split_axis(ds, n_devices))\n",
    "\n",
    "\n",
    "def make_mnistc_pmap_fullbatch(corruption, dtype, n_devices=None, truncate_to=None):\n",
    "    \"\"\"Make train and test sets sharded over batch dim.\"\"\"\n",
    "    name = get_ds_name(corruption).lower()\n",
    "    n_devices = n_devices or len(jax.local_devices())\n",
    "    test_set, data_info = get_image_dataset(name)\n",
    "    loaded = True\n",
    "    test_set = pmap_dataset(test_set, n_devices)\n",
    "\n",
    "    test_set = test_set[0].astype(dtype), test_set[1]\n",
    "\n",
    "    return test_set, task, data_info\n",
    "\n",
    "\n",
    "def get_ds_name(corruption):\n",
    "    return \"mnist_corrupted/{}\".format(corruption)\n",
    "    \n",
    "\n",
    "dtype = jnp.float32\n",
    "test_set, task, data_info = make_mnistc_pmap_fullbatch(all_corruptions[0], dtype)\n",
    "test_labels = test_set[1]\n",
    "\n",
    "net_apply, net_init = models.get_model(\"mlp_classification\", data_info)\n",
    "net_apply = precision_utils.rewrite_high_precision(net_apply)\n",
    "(_, predict_fn, ensemble_upd_fn, _,_) = train_utils.get_task_specific_fns(task, data_info)"
   ]
  },
  {
   "cell_type": "code",
   "execution_count": 96,
   "metadata": {},
   "outputs": [
    {
     "name": "stderr",
     "output_type": "stream",
     "text": [
      "  0%|          | 0/89 [00:00<?, ?it/s]/home/pavel/anaconda3/envs/py38/lib/python3.8/site-packages/numpy/core/_asarray.py:83: VisibleDeprecationWarning: Creating an ndarray from ragged nested sequences (which is a list-or-tuple of lists-or-tuples-or ndarrays with different lengths or shapes) is deprecated. If you meant to do this, you must specify 'dtype=object' when creating the ndarray\n",
      "  return array(a, dtype, copy=False, order=order)\n",
      "100%|██████████| 89/89 [00:00<00:00, 191.82it/s]\n",
      " 33%|███▎      | 29/89 [00:00<00:00, 287.61it/s]"
     ]
    },
    {
     "name": "stdout",
     "output_type": "stream",
     "text": [
      "10\n"
     ]
    },
    {
     "name": "stderr",
     "output_type": "stream",
     "text": [
      "100%|██████████| 89/89 [00:00<00:00, 286.53it/s]\n",
      " 25%|██▍       | 22/89 [00:00<00:00, 212.51it/s]"
     ]
    },
    {
     "name": "stdout",
     "output_type": "stream",
     "text": [
      "56\n"
     ]
    },
    {
     "name": "stderr",
     "output_type": "stream",
     "text": [
      "100%|██████████| 89/89 [00:00<00:00, 207.36it/s]\n",
      " 24%|██▎       | 21/89 [00:00<00:00, 208.70it/s]"
     ]
    },
    {
     "name": "stdout",
     "output_type": "stream",
     "text": [
      "81\n"
     ]
    },
    {
     "name": "stderr",
     "output_type": "stream",
     "text": [
      "100%|██████████| 89/89 [00:00<00:00, 209.12it/s]\n",
      " 24%|██▎       | 21/89 [00:00<00:00, 203.86it/s]"
     ]
    },
    {
     "name": "stdout",
     "output_type": "stream",
     "text": [
      "88\n"
     ]
    },
    {
     "name": "stderr",
     "output_type": "stream",
     "text": [
      "100%|██████████| 89/89 [00:00<00:00, 196.98it/s]\n",
      "100%|██████████| 89/89 [00:00<00:00, 8232.65it/s]\n",
      "100%|██████████| 89/89 [00:00<00:00, 98080.15it/s]\n"
     ]
    },
    {
     "name": "stdout",
     "output_type": "stream",
     "text": [
      "88\n",
      "0\n",
      "0\n"
     ]
    },
    {
     "name": "stderr",
     "output_type": "stream",
     "text": [
      "100%|██████████| 89/89 [00:00<00:00, 857.28it/s]\n",
      " 26%|██▌       | 23/89 [00:00<00:00, 226.08it/s]"
     ]
    },
    {
     "name": "stdout",
     "output_type": "stream",
     "text": [
      "10\n"
     ]
    },
    {
     "name": "stderr",
     "output_type": "stream",
     "text": [
      "100%|██████████| 89/89 [00:00<00:00, 249.18it/s]\n",
      " 24%|██▎       | 21/89 [00:00<00:00, 199.56it/s]"
     ]
    },
    {
     "name": "stdout",
     "output_type": "stream",
     "text": [
      "56\n"
     ]
    },
    {
     "name": "stderr",
     "output_type": "stream",
     "text": [
      "100%|██████████| 89/89 [00:00<00:00, 203.78it/s]\n",
      " 24%|██▎       | 21/89 [00:00<00:00, 200.94it/s]"
     ]
    },
    {
     "name": "stdout",
     "output_type": "stream",
     "text": [
      "81\n"
     ]
    },
    {
     "name": "stderr",
     "output_type": "stream",
     "text": [
      "100%|██████████| 89/89 [00:00<00:00, 202.34it/s]\n",
      " 24%|██▎       | 21/89 [00:00<00:00, 200.24it/s]"
     ]
    },
    {
     "name": "stdout",
     "output_type": "stream",
     "text": [
      "88\n"
     ]
    },
    {
     "name": "stderr",
     "output_type": "stream",
     "text": [
      "100%|██████████| 89/89 [00:00<00:00, 200.64it/s]\n",
      "100%|██████████| 89/89 [00:00<00:00, 8161.73it/s]\n",
      "100%|██████████| 89/89 [00:00<00:00, 110835.23it/s]\n"
     ]
    },
    {
     "name": "stdout",
     "output_type": "stream",
     "text": [
      "88\n",
      "0\n",
      "0\n"
     ]
    },
    {
     "name": "stderr",
     "output_type": "stream",
     "text": [
      "100%|██████████| 89/89 [00:00<00:00, 911.12it/s]\n",
      " 29%|██▉       | 26/89 [00:00<00:00, 247.07it/s]"
     ]
    },
    {
     "name": "stdout",
     "output_type": "stream",
     "text": [
      "10\n"
     ]
    },
    {
     "name": "stderr",
     "output_type": "stream",
     "text": [
      "100%|██████████| 89/89 [00:00<00:00, 259.07it/s]\n",
      " 22%|██▏       | 20/89 [00:00<00:00, 199.27it/s]"
     ]
    },
    {
     "name": "stdout",
     "output_type": "stream",
     "text": [
      "56\n"
     ]
    },
    {
     "name": "stderr",
     "output_type": "stream",
     "text": [
      "100%|██████████| 89/89 [00:00<00:00, 195.58it/s]\n",
      " 21%|██▏       | 19/89 [00:00<00:00, 182.07it/s]"
     ]
    },
    {
     "name": "stdout",
     "output_type": "stream",
     "text": [
      "81\n"
     ]
    },
    {
     "name": "stderr",
     "output_type": "stream",
     "text": [
      "100%|██████████| 89/89 [00:00<00:00, 179.95it/s]\n",
      " 20%|██        | 18/89 [00:00<00:00, 177.63it/s]"
     ]
    },
    {
     "name": "stdout",
     "output_type": "stream",
     "text": [
      "88\n"
     ]
    },
    {
     "name": "stderr",
     "output_type": "stream",
     "text": [
      "100%|██████████| 89/89 [00:00<00:00, 171.45it/s]\n",
      "100%|██████████| 89/89 [00:00<00:00, 8356.12it/s]\n",
      "100%|██████████| 89/89 [00:00<00:00, 88837.00it/s]\n"
     ]
    },
    {
     "name": "stdout",
     "output_type": "stream",
     "text": [
      "88\n",
      "0\n",
      "0\n"
     ]
    },
    {
     "name": "stderr",
     "output_type": "stream",
     "text": [
      "100%|██████████| 89/89 [00:00<00:00, 922.44it/s]\n",
      " 29%|██▉       | 26/89 [00:00<00:00, 248.22it/s]"
     ]
    },
    {
     "name": "stdout",
     "output_type": "stream",
     "text": [
      "10\n"
     ]
    },
    {
     "name": "stderr",
     "output_type": "stream",
     "text": [
      "100%|██████████| 89/89 [00:00<00:00, 265.41it/s]\n",
      " 22%|██▏       | 20/89 [00:00<00:00, 199.41it/s]"
     ]
    },
    {
     "name": "stdout",
     "output_type": "stream",
     "text": [
      "56\n"
     ]
    },
    {
     "name": "stderr",
     "output_type": "stream",
     "text": [
      "100%|██████████| 89/89 [00:00<00:00, 194.10it/s]\n",
      " 21%|██▏       | 19/89 [00:00<00:00, 180.43it/s]"
     ]
    },
    {
     "name": "stdout",
     "output_type": "stream",
     "text": [
      "81\n"
     ]
    },
    {
     "name": "stderr",
     "output_type": "stream",
     "text": [
      "100%|██████████| 89/89 [00:00<00:00, 179.48it/s]\n",
      " 22%|██▏       | 20/89 [00:00<00:00, 199.33it/s]"
     ]
    },
    {
     "name": "stdout",
     "output_type": "stream",
     "text": [
      "88\n"
     ]
    },
    {
     "name": "stderr",
     "output_type": "stream",
     "text": [
      "100%|██████████| 89/89 [00:00<00:00, 196.92it/s]\n",
      "100%|██████████| 89/89 [00:00<00:00, 8029.88it/s]\n",
      "100%|██████████| 89/89 [00:00<00:00, 102863.89it/s]\n"
     ]
    },
    {
     "name": "stdout",
     "output_type": "stream",
     "text": [
      "88\n",
      "0\n",
      "0\n"
     ]
    },
    {
     "name": "stderr",
     "output_type": "stream",
     "text": [
      "100%|██████████| 89/89 [00:00<00:00, 981.20it/s]\n",
      " 29%|██▉       | 26/89 [00:00<00:00, 258.17it/s]"
     ]
    },
    {
     "name": "stdout",
     "output_type": "stream",
     "text": [
      "10\n"
     ]
    },
    {
     "name": "stderr",
     "output_type": "stream",
     "text": [
      "100%|██████████| 89/89 [00:00<00:00, 261.54it/s]\n",
      " 24%|██▎       | 21/89 [00:00<00:00, 208.01it/s]"
     ]
    },
    {
     "name": "stdout",
     "output_type": "stream",
     "text": [
      "56\n"
     ]
    },
    {
     "name": "stderr",
     "output_type": "stream",
     "text": [
      "100%|██████████| 89/89 [00:00<00:00, 210.04it/s]\n",
      " 24%|██▎       | 21/89 [00:00<00:00, 204.38it/s]"
     ]
    },
    {
     "name": "stdout",
     "output_type": "stream",
     "text": [
      "81\n"
     ]
    },
    {
     "name": "stderr",
     "output_type": "stream",
     "text": [
      "100%|██████████| 89/89 [00:00<00:00, 202.80it/s]\n",
      " 22%|██▏       | 20/89 [00:00<00:00, 199.30it/s]"
     ]
    },
    {
     "name": "stdout",
     "output_type": "stream",
     "text": [
      "88\n"
     ]
    },
    {
     "name": "stderr",
     "output_type": "stream",
     "text": [
      "100%|██████████| 89/89 [00:00<00:00, 195.08it/s]\n",
      "100%|██████████| 89/89 [00:00<00:00, 8182.66it/s]\n",
      "100%|██████████| 89/89 [00:00<00:00, 79373.39it/s]\n"
     ]
    },
    {
     "name": "stdout",
     "output_type": "stream",
     "text": [
      "88\n",
      "0\n",
      "0\n"
     ]
    },
    {
     "name": "stderr",
     "output_type": "stream",
     "text": [
      "100%|██████████| 89/89 [00:00<00:00, 983.32it/s]\n",
      " 33%|███▎      | 29/89 [00:00<00:00, 287.41it/s]"
     ]
    },
    {
     "name": "stdout",
     "output_type": "stream",
     "text": [
      "10\n"
     ]
    },
    {
     "name": "stderr",
     "output_type": "stream",
     "text": [
      "100%|██████████| 89/89 [00:00<00:00, 292.26it/s]\n",
      " 24%|██▎       | 21/89 [00:00<00:00, 202.12it/s]"
     ]
    },
    {
     "name": "stdout",
     "output_type": "stream",
     "text": [
      "56\n"
     ]
    },
    {
     "name": "stderr",
     "output_type": "stream",
     "text": [
      "100%|██████████| 89/89 [00:00<00:00, 199.29it/s]\n",
      " 21%|██▏       | 19/89 [00:00<00:00, 189.18it/s]"
     ]
    },
    {
     "name": "stdout",
     "output_type": "stream",
     "text": [
      "81\n"
     ]
    },
    {
     "name": "stderr",
     "output_type": "stream",
     "text": [
      "100%|██████████| 89/89 [00:00<00:00, 184.51it/s]\n",
      " 21%|██▏       | 19/89 [00:00<00:00, 186.28it/s]"
     ]
    },
    {
     "name": "stdout",
     "output_type": "stream",
     "text": [
      "88\n"
     ]
    },
    {
     "name": "stderr",
     "output_type": "stream",
     "text": [
      "100%|██████████| 89/89 [00:00<00:00, 182.72it/s]\n",
      "100%|██████████| 89/89 [00:00<00:00, 8355.19it/s]\n",
      "100%|██████████| 89/89 [00:00<00:00, 87937.12it/s]\n"
     ]
    },
    {
     "name": "stdout",
     "output_type": "stream",
     "text": [
      "88\n",
      "0\n",
      "0\n"
     ]
    },
    {
     "name": "stderr",
     "output_type": "stream",
     "text": [
      "100%|██████████| 89/89 [00:00<00:00, 792.39it/s]\n",
      " 29%|██▉       | 26/89 [00:00<00:00, 259.91it/s]"
     ]
    },
    {
     "name": "stdout",
     "output_type": "stream",
     "text": [
      "10\n"
     ]
    },
    {
     "name": "stderr",
     "output_type": "stream",
     "text": [
      "100%|██████████| 89/89 [00:00<00:00, 272.42it/s]\n",
      " 25%|██▍       | 22/89 [00:00<00:00, 216.68it/s]"
     ]
    },
    {
     "name": "stdout",
     "output_type": "stream",
     "text": [
      "56\n"
     ]
    },
    {
     "name": "stderr",
     "output_type": "stream",
     "text": [
      "100%|██████████| 89/89 [00:00<00:00, 210.58it/s]\n",
      " 22%|██▏       | 20/89 [00:00<00:00, 194.64it/s]"
     ]
    },
    {
     "name": "stdout",
     "output_type": "stream",
     "text": [
      "81\n"
     ]
    },
    {
     "name": "stderr",
     "output_type": "stream",
     "text": [
      "100%|██████████| 89/89 [00:00<00:00, 198.09it/s]\n",
      " 21%|██▏       | 19/89 [00:00<00:00, 189.19it/s]"
     ]
    },
    {
     "name": "stdout",
     "output_type": "stream",
     "text": [
      "88\n"
     ]
    },
    {
     "name": "stderr",
     "output_type": "stream",
     "text": [
      "100%|██████████| 89/89 [00:00<00:00, 196.20it/s]\n",
      "100%|██████████| 89/89 [00:00<00:00, 8290.80it/s]\n",
      "100%|██████████| 89/89 [00:00<00:00, 119072.75it/s]\n"
     ]
    },
    {
     "name": "stdout",
     "output_type": "stream",
     "text": [
      "88\n",
      "0\n",
      "0\n"
     ]
    },
    {
     "name": "stderr",
     "output_type": "stream",
     "text": [
      "100%|██████████| 89/89 [00:00<00:00, 903.47it/s]\n",
      " 28%|██▊       | 25/89 [00:00<00:00, 243.17it/s]"
     ]
    },
    {
     "name": "stdout",
     "output_type": "stream",
     "text": [
      "10\n"
     ]
    },
    {
     "name": "stderr",
     "output_type": "stream",
     "text": [
      "100%|██████████| 89/89 [00:00<00:00, 257.12it/s]\n",
      " 22%|██▏       | 20/89 [00:00<00:00, 192.67it/s]"
     ]
    },
    {
     "name": "stdout",
     "output_type": "stream",
     "text": [
      "56\n"
     ]
    },
    {
     "name": "stderr",
     "output_type": "stream",
     "text": [
      "100%|██████████| 89/89 [00:00<00:00, 187.65it/s]\n",
      " 20%|██        | 18/89 [00:00<00:00, 173.51it/s]"
     ]
    },
    {
     "name": "stdout",
     "output_type": "stream",
     "text": [
      "81\n"
     ]
    },
    {
     "name": "stderr",
     "output_type": "stream",
     "text": [
      "100%|██████████| 89/89 [00:00<00:00, 175.40it/s]\n",
      " 24%|██▎       | 21/89 [00:00<00:00, 202.33it/s]"
     ]
    },
    {
     "name": "stdout",
     "output_type": "stream",
     "text": [
      "88\n"
     ]
    },
    {
     "name": "stderr",
     "output_type": "stream",
     "text": [
      "100%|██████████| 89/89 [00:00<00:00, 200.86it/s]\n",
      "100%|██████████| 89/89 [00:00<00:00, 8429.52it/s]\n",
      "100%|██████████| 89/89 [00:00<00:00, 89091.42it/s]\n"
     ]
    },
    {
     "name": "stdout",
     "output_type": "stream",
     "text": [
      "88\n",
      "0\n",
      "0\n"
     ]
    },
    {
     "name": "stderr",
     "output_type": "stream",
     "text": [
      "100%|██████████| 89/89 [00:00<00:00, 852.38it/s]\n",
      " 26%|██▌       | 23/89 [00:00<00:00, 225.83it/s]"
     ]
    },
    {
     "name": "stdout",
     "output_type": "stream",
     "text": [
      "10\n"
     ]
    },
    {
     "name": "stderr",
     "output_type": "stream",
     "text": [
      "100%|██████████| 89/89 [00:00<00:00, 238.89it/s]\n",
      " 24%|██▎       | 21/89 [00:00<00:00, 204.80it/s]"
     ]
    },
    {
     "name": "stdout",
     "output_type": "stream",
     "text": [
      "56\n"
     ]
    },
    {
     "name": "stderr",
     "output_type": "stream",
     "text": [
      "100%|██████████| 89/89 [00:00<00:00, 195.56it/s]\n",
      " 22%|██▏       | 20/89 [00:00<00:00, 197.97it/s]"
     ]
    },
    {
     "name": "stdout",
     "output_type": "stream",
     "text": [
      "81\n"
     ]
    },
    {
     "name": "stderr",
     "output_type": "stream",
     "text": [
      "100%|██████████| 89/89 [00:00<00:00, 189.19it/s]\n",
      " 21%|██▏       | 19/89 [00:00<00:00, 185.55it/s]"
     ]
    },
    {
     "name": "stdout",
     "output_type": "stream",
     "text": [
      "88\n"
     ]
    },
    {
     "name": "stderr",
     "output_type": "stream",
     "text": [
      "100%|██████████| 89/89 [00:00<00:00, 183.09it/s]\n",
      "100%|██████████| 89/89 [00:00<00:00, 8420.59it/s]\n",
      "100%|██████████| 89/89 [00:00<00:00, 90254.61it/s]\n"
     ]
    },
    {
     "name": "stdout",
     "output_type": "stream",
     "text": [
      "88\n",
      "0\n",
      "0\n"
     ]
    },
    {
     "name": "stderr",
     "output_type": "stream",
     "text": [
      "100%|██████████| 89/89 [00:00<00:00, 960.80it/s]\n",
      " 33%|███▎      | 29/89 [00:00<00:00, 279.42it/s]"
     ]
    },
    {
     "name": "stdout",
     "output_type": "stream",
     "text": [
      "10\n"
     ]
    },
    {
     "name": "stderr",
     "output_type": "stream",
     "text": [
      "100%|██████████| 89/89 [00:00<00:00, 285.05it/s]\n",
      " 25%|██▍       | 22/89 [00:00<00:00, 214.96it/s]"
     ]
    },
    {
     "name": "stdout",
     "output_type": "stream",
     "text": [
      "56\n"
     ]
    },
    {
     "name": "stderr",
     "output_type": "stream",
     "text": [
      "100%|██████████| 89/89 [00:00<00:00, 211.04it/s]\n",
      " 22%|██▏       | 20/89 [00:00<00:00, 196.69it/s]"
     ]
    },
    {
     "name": "stdout",
     "output_type": "stream",
     "text": [
      "81\n"
     ]
    },
    {
     "name": "stderr",
     "output_type": "stream",
     "text": [
      "100%|██████████| 89/89 [00:00<00:00, 194.66it/s]\n",
      " 22%|██▏       | 20/89 [00:00<00:00, 193.43it/s]"
     ]
    },
    {
     "name": "stdout",
     "output_type": "stream",
     "text": [
      "88\n"
     ]
    },
    {
     "name": "stderr",
     "output_type": "stream",
     "text": [
      "100%|██████████| 89/89 [00:00<00:00, 189.80it/s]\n",
      "100%|██████████| 89/89 [00:00<00:00, 8040.95it/s]\n",
      "100%|██████████| 89/89 [00:00<00:00, 111697.50it/s]\n"
     ]
    },
    {
     "name": "stdout",
     "output_type": "stream",
     "text": [
      "88\n",
      "0\n",
      "0\n"
     ]
    },
    {
     "name": "stderr",
     "output_type": "stream",
     "text": [
      "100%|██████████| 89/89 [00:00<00:00, 876.31it/s]\n",
      " 28%|██▊       | 25/89 [00:00<00:00, 241.84it/s]"
     ]
    },
    {
     "name": "stdout",
     "output_type": "stream",
     "text": [
      "10\n"
     ]
    },
    {
     "name": "stderr",
     "output_type": "stream",
     "text": [
      "100%|██████████| 89/89 [00:00<00:00, 246.87it/s]\n",
      " 21%|██▏       | 19/89 [00:00<00:00, 184.70it/s]"
     ]
    },
    {
     "name": "stdout",
     "output_type": "stream",
     "text": [
      "56\n"
     ]
    },
    {
     "name": "stderr",
     "output_type": "stream",
     "text": [
      "100%|██████████| 89/89 [00:00<00:00, 193.38it/s]\n",
      " 22%|██▏       | 20/89 [00:00<00:00, 194.96it/s]"
     ]
    },
    {
     "name": "stdout",
     "output_type": "stream",
     "text": [
      "81\n"
     ]
    },
    {
     "name": "stderr",
     "output_type": "stream",
     "text": [
      "100%|██████████| 89/89 [00:00<00:00, 194.03it/s]\n",
      " 21%|██▏       | 19/89 [00:00<00:00, 185.17it/s]"
     ]
    },
    {
     "name": "stdout",
     "output_type": "stream",
     "text": [
      "88\n"
     ]
    },
    {
     "name": "stderr",
     "output_type": "stream",
     "text": [
      "100%|██████████| 89/89 [00:00<00:00, 186.56it/s]\n",
      "100%|██████████| 89/89 [00:00<00:00, 8312.03it/s]\n",
      "100%|██████████| 89/89 [00:00<00:00, 119262.96it/s]\n"
     ]
    },
    {
     "name": "stdout",
     "output_type": "stream",
     "text": [
      "88\n",
      "0\n",
      "0\n"
     ]
    },
    {
     "name": "stderr",
     "output_type": "stream",
     "text": [
      "100%|██████████| 89/89 [00:00<00:00, 867.15it/s]\n",
      " 33%|███▎      | 29/89 [00:00<00:00, 279.74it/s]"
     ]
    },
    {
     "name": "stdout",
     "output_type": "stream",
     "text": [
      "10\n"
     ]
    },
    {
     "name": "stderr",
     "output_type": "stream",
     "text": [
      "100%|██████████| 89/89 [00:00<00:00, 284.03it/s]\n",
      " 25%|██▍       | 22/89 [00:00<00:00, 209.14it/s]"
     ]
    },
    {
     "name": "stdout",
     "output_type": "stream",
     "text": [
      "56\n"
     ]
    },
    {
     "name": "stderr",
     "output_type": "stream",
     "text": [
      "100%|██████████| 89/89 [00:00<00:00, 205.95it/s]\n",
      " 22%|██▏       | 20/89 [00:00<00:00, 195.64it/s]"
     ]
    },
    {
     "name": "stdout",
     "output_type": "stream",
     "text": [
      "81\n"
     ]
    },
    {
     "name": "stderr",
     "output_type": "stream",
     "text": [
      "100%|██████████| 89/89 [00:00<00:00, 197.89it/s]\n",
      " 22%|██▏       | 20/89 [00:00<00:00, 197.11it/s]"
     ]
    },
    {
     "name": "stdout",
     "output_type": "stream",
     "text": [
      "88\n"
     ]
    },
    {
     "name": "stderr",
     "output_type": "stream",
     "text": [
      "100%|██████████| 89/89 [00:00<00:00, 191.70it/s]\n",
      "100%|██████████| 89/89 [00:00<00:00, 8593.90it/s]\n",
      "100%|██████████| 89/89 [00:00<00:00, 123036.60it/s]\n"
     ]
    },
    {
     "name": "stdout",
     "output_type": "stream",
     "text": [
      "88\n",
      "0\n",
      "0\n"
     ]
    },
    {
     "name": "stderr",
     "output_type": "stream",
     "text": [
      "100%|██████████| 89/89 [00:00<00:00, 947.38it/s]\n",
      " 33%|███▎      | 29/89 [00:00<00:00, 281.29it/s]"
     ]
    },
    {
     "name": "stdout",
     "output_type": "stream",
     "text": [
      "10\n"
     ]
    },
    {
     "name": "stderr",
     "output_type": "stream",
     "text": [
      "100%|██████████| 89/89 [00:00<00:00, 290.88it/s]\n",
      " 25%|██▍       | 22/89 [00:00<00:00, 218.74it/s]"
     ]
    },
    {
     "name": "stdout",
     "output_type": "stream",
     "text": [
      "56\n"
     ]
    },
    {
     "name": "stderr",
     "output_type": "stream",
     "text": [
      "100%|██████████| 89/89 [00:00<00:00, 215.57it/s]\n",
      " 24%|██▎       | 21/89 [00:00<00:00, 202.75it/s]"
     ]
    },
    {
     "name": "stdout",
     "output_type": "stream",
     "text": [
      "81\n"
     ]
    },
    {
     "name": "stderr",
     "output_type": "stream",
     "text": [
      "100%|██████████| 89/89 [00:00<00:00, 202.58it/s]\n",
      " 22%|██▏       | 20/89 [00:00<00:00, 198.94it/s]"
     ]
    },
    {
     "name": "stdout",
     "output_type": "stream",
     "text": [
      "88\n"
     ]
    },
    {
     "name": "stderr",
     "output_type": "stream",
     "text": [
      "100%|██████████| 89/89 [00:00<00:00, 195.29it/s]\n",
      "100%|██████████| 89/89 [00:00<00:00, 7913.28it/s]\n",
      "100%|██████████| 89/89 [00:00<00:00, 70115.15it/s]\n"
     ]
    },
    {
     "name": "stdout",
     "output_type": "stream",
     "text": [
      "88\n",
      "0\n",
      "0\n"
     ]
    },
    {
     "name": "stderr",
     "output_type": "stream",
     "text": [
      "100%|██████████| 89/89 [00:00<00:00, 945.18it/s]\n",
      " 29%|██▉       | 26/89 [00:00<00:00, 259.11it/s]"
     ]
    },
    {
     "name": "stdout",
     "output_type": "stream",
     "text": [
      "10\n"
     ]
    },
    {
     "name": "stderr",
     "output_type": "stream",
     "text": [
      "100%|██████████| 89/89 [00:00<00:00, 276.89it/s]\n",
      " 24%|██▎       | 21/89 [00:00<00:00, 204.16it/s]"
     ]
    },
    {
     "name": "stdout",
     "output_type": "stream",
     "text": [
      "56\n"
     ]
    },
    {
     "name": "stderr",
     "output_type": "stream",
     "text": [
      "100%|██████████| 89/89 [00:00<00:00, 200.39it/s]\n",
      " 21%|██▏       | 19/89 [00:00<00:00, 186.45it/s]"
     ]
    },
    {
     "name": "stdout",
     "output_type": "stream",
     "text": [
      "81\n"
     ]
    },
    {
     "name": "stderr",
     "output_type": "stream",
     "text": [
      "100%|██████████| 89/89 [00:00<00:00, 187.39it/s]\n",
      " 21%|██▏       | 19/89 [00:00<00:00, 183.42it/s]"
     ]
    },
    {
     "name": "stdout",
     "output_type": "stream",
     "text": [
      "88\n"
     ]
    },
    {
     "name": "stderr",
     "output_type": "stream",
     "text": [
      "100%|██████████| 89/89 [00:00<00:00, 182.42it/s]\n",
      "100%|██████████| 89/89 [00:00<00:00, 8538.66it/s]\n",
      "100%|██████████| 89/89 [00:00<00:00, 107268.12it/s]\n"
     ]
    },
    {
     "name": "stdout",
     "output_type": "stream",
     "text": [
      "88\n",
      "0\n",
      "0\n"
     ]
    },
    {
     "name": "stderr",
     "output_type": "stream",
     "text": [
      "100%|██████████| 89/89 [00:00<00:00, 892.17it/s]\n",
      " 28%|██▊       | 25/89 [00:00<00:00, 244.10it/s]"
     ]
    },
    {
     "name": "stdout",
     "output_type": "stream",
     "text": [
      "10\n"
     ]
    },
    {
     "name": "stderr",
     "output_type": "stream",
     "text": [
      "100%|██████████| 89/89 [00:00<00:00, 257.43it/s]\n",
      " 22%|██▏       | 20/89 [00:00<00:00, 192.20it/s]"
     ]
    },
    {
     "name": "stdout",
     "output_type": "stream",
     "text": [
      "56\n"
     ]
    },
    {
     "name": "stderr",
     "output_type": "stream",
     "text": [
      "100%|██████████| 89/89 [00:00<00:00, 187.78it/s]\n",
      " 20%|██        | 18/89 [00:00<00:00, 173.74it/s]"
     ]
    },
    {
     "name": "stdout",
     "output_type": "stream",
     "text": [
      "81\n"
     ]
    },
    {
     "name": "stderr",
     "output_type": "stream",
     "text": [
      "100%|██████████| 89/89 [00:00<00:00, 173.17it/s]\n",
      " 20%|██        | 18/89 [00:00<00:00, 169.78it/s]"
     ]
    },
    {
     "name": "stdout",
     "output_type": "stream",
     "text": [
      "88\n"
     ]
    },
    {
     "name": "stderr",
     "output_type": "stream",
     "text": [
      "100%|██████████| 89/89 [00:00<00:00, 168.91it/s]\n",
      "100%|██████████| 89/89 [00:00<00:00, 8360.43it/s]\n",
      "100%|██████████| 89/89 [00:00<00:00, 97414.68it/s]\n"
     ]
    },
    {
     "name": "stdout",
     "output_type": "stream",
     "text": [
      "88\n",
      "0\n",
      "0\n"
     ]
    },
    {
     "name": "stderr",
     "output_type": "stream",
     "text": [
      "100%|██████████| 89/89 [00:00<00:00, 934.65it/s]\n",
      " 29%|██▉       | 26/89 [00:00<00:00, 249.93it/s]"
     ]
    },
    {
     "name": "stdout",
     "output_type": "stream",
     "text": [
      "10\n"
     ]
    },
    {
     "name": "stderr",
     "output_type": "stream",
     "text": [
      "100%|██████████| 89/89 [00:00<00:00, 272.78it/s]\n",
      " 22%|██▏       | 20/89 [00:00<00:00, 197.76it/s]"
     ]
    },
    {
     "name": "stdout",
     "output_type": "stream",
     "text": [
      "56\n"
     ]
    },
    {
     "name": "stderr",
     "output_type": "stream",
     "text": [
      "100%|██████████| 89/89 [00:00<00:00, 199.78it/s]\n",
      " 21%|██▏       | 19/89 [00:00<00:00, 186.46it/s]"
     ]
    },
    {
     "name": "stdout",
     "output_type": "stream",
     "text": [
      "81\n"
     ]
    },
    {
     "name": "stderr",
     "output_type": "stream",
     "text": [
      "100%|██████████| 89/89 [00:00<00:00, 195.83it/s]\n",
      " 22%|██▏       | 20/89 [00:00<00:00, 198.06it/s]"
     ]
    },
    {
     "name": "stdout",
     "output_type": "stream",
     "text": [
      "88\n"
     ]
    },
    {
     "name": "stderr",
     "output_type": "stream",
     "text": [
      "100%|██████████| 89/89 [00:00<00:00, 197.59it/s]\n",
      "100%|██████████| 89/89 [00:00<00:00, 8094.30it/s]\n",
      "100%|██████████| 89/89 [00:00<00:00, 97060.08it/s]\n"
     ]
    },
    {
     "name": "stdout",
     "output_type": "stream",
     "text": [
      "88\n",
      "0\n",
      "0\n"
     ]
    }
   ],
   "source": [
    "sgd_ind_accs = {key: {} for key in sgddirs}\n",
    "hmc_ind_accs = {key: {} for key in alldirs}\n",
    "hmc_ens_accs = {key: {} for key in alldirs}\n",
    "\n",
    "for corruption in all_corruptions:\n",
    "    noisy_test_set, _, _ = make_mnistc_pmap_fullbatch(corruption, dtype)\n",
    "    \n",
    "    for key, path in alldirs.items():\n",
    "        hmc_predictions, predictions = predict_hmc(noisy_test_set, path)\n",
    "        if hmc_predictions is None:\n",
    "            continue\n",
    "        hmc_ens_accs[key][corruption] = metrics.accuracy(hmc_predictions, test_labels)\n",
    "        hmc_ind_accs[key][corruption] = metrics.accuracy(predictions, test_labels)\n",
    "\n",
    "    for key, path in sgddirs.items():\n",
    "        checkpoint_dict = checkpoint_utils.load_checkpoint(path)\n",
    "        _, params, net_state, _, _ = (\n",
    "            checkpoint_utils.parse_sgd_checkpoint_dict(checkpoint_dict))\n",
    "        predictions = onp.asarray(predict_fn(net_apply, params, net_state, noisy_test_set)[1])\n",
    "        sgd_ind_accs[key][corruption] = metrics.accuracy(predictions, test_labels)"
   ]
  },
  {
   "cell_type": "code",
   "execution_count": 32,
   "metadata": {},
   "outputs": [
    {
     "data": {
      "text/plain": [
       "Text(0.5, 1.0, 'MNIST Robustness')"
      ]
     },
     "execution_count": 32,
     "metadata": {},
     "output_type": "execute_result"
    },
    {
     "data": {
      "image/png": "[encoded data removed]",
      "text/plain": [
       "<Figure size 720x720 with 1 Axes>"
      ]
     },
     "metadata": {
      "needs_background": "light"
     },
     "output_type": "display_data"
    }
   ],
   "source": [
    "plt.figure(figsize=(10, 10))\n",
    "xs = onp.arange(len(all_corruptions))\n",
    "for key, _ in tempdirs.items():\n",
    "    if hmc_ens_accs[key] == {}:\n",
    "        continue\n",
    "    style = \"-\"\n",
    "    if hmc_ens_accs[key][\"identity\"] > 0.95:\n",
    "        plt.plot(xs, [hmc_ens_accs[key][c] for c in all_corruptions], style, lw=2, label=key, ms=10)\n",
    "\n",
    "for key, _ in sgddirs.items():\n",
    "    plt.plot(xs, [sgd_ind_accs[key][c] for c in all_corruptions], \"--\", label=key)\n",
    "plt.xticks(xs, all_corruptions, rotation=90)\n",
    "\n",
    "plt.legend(loc=(1., 0.))\n",
    "plt.ylabel(\"Test Accuracy\", fontsize=14)\n",
    "plt.xlabel(\"Corruption\", fontsize=14)\n",
    "plt.title(\"MNIST Robustness\", fontsize=16)"
   ]
  },
  {
   "cell_type": "code",
   "execution_count": 44,
   "metadata": {},
   "outputs": [
    {
     "data": {
      "text/plain": [
       "<matplotlib.legend.Legend at 0x7f7782fccc10>"
      ]
     },
     "execution_count": 44,
     "metadata": {},
     "output_type": "execute_result"
    },
    {
     "data": {
      "image/png": "[encoded data removed]",
      "text/plain": [
       "<Figure size 432x288 with 1 Axes>"
      ]
     },
     "metadata": {
      "needs_background": "light"
     },
     "output_type": "display_data"
    }
   ],
   "source": [
    "xs = onp.arange(len(all_corruptions))\n",
    "plt.bar(xs, [hmc_ens_accs[\"Gaussian wd=100.0 T=0.0003\"][c] for c in all_corruptions],\n",
    "        width=0.2, label=\"HMC, T=3e-4\"\n",
    "       )\n",
    "plt.bar(xs+0.2, [hmc_ens_accs[\"Gaussian wd=100.0 T=0.0003\"][c] for c in all_corruptions],\n",
    "        width=0.2, label=\"HMC, T=3e-4, Ind\"\n",
    "       )\n",
    "plt.bar(xs+0.4, [sgd_ind_accs[\"SGD wd= 100.0\"][c] for c in all_corruptions],\n",
    "        width=0.2, label=\"SGD\"\n",
    "       )\n",
    "\n",
    "plt.xticks(xs, all_corruptions, rotation=90)\n",
    "plt.legend()"
   ]
  },
  {
   "cell_type": "code",
   "execution_count": 97,
   "metadata": {},
   "outputs": [],
   "source": [
    "cmap = matplotlib.cm.get_cmap(\"tab20\")"
   ]
  },
  {
   "cell_type": "code",
   "execution_count": 98,
   "metadata": {},
   "outputs": [
    {
     "name": "stdout",
     "output_type": "stream",
     "text": [
      "0\n",
      "1\n",
      "2\n",
      "3\n",
      "4\n"
     ]
    },
    {
     "data": {
      "image/png": "[encoded data removed]",
      "text/plain": [
       "<Figure size 216x504 with 1 Axes>"
      ]
     },
     "metadata": {
      "needs_background": "light"
     },
     "output_type": "display_data"
    }
   ],
   "source": [
    "wds = sorted(alldirs)\n",
    "wds = [wd for wd in wds if hmc_ens_accs[wd] != {}]\n",
    "num_bars = len(wds) + 1\n",
    "width = 0.8 / num_bars\n",
    "\n",
    "plt.figure(figsize=(3, 7))\n",
    "\n",
    "ys = onp.arange(len(all_corruptions))\n",
    "for i, wd in enumerate(wds):\n",
    "    print(i)\n",
    "    std = onp.sqrt(1 / wd)\n",
    "    plt.barh(ys + i * width, [hmc_ens_accs[wd][c] for c in all_corruptions],\n",
    "        height=width, label=\"std {:.2f}\".format(std), color=cmap(i)\n",
    "    )\n",
    "    \n",
    "plt.barh(ys + (num_bars-1) * width, [sgd_ind_accs[\"SGD wd= 100.0\"][c] for c in all_corruptions],\n",
    "        height=width, label=\"SGD\", color=\"k\" #cmap(len(wds)+1)\n",
    "    )\n",
    "\n",
    "plt.ylim(-0.15, 16.05)\n",
    "\n",
    "plt.yticks(ys+0.4, all_corruptions, rotation=0);\n",
    "plt.savefig(\"gaussian_priors_mnistc.pdf\", bbox_inches=\"tight\")"
   ]
  },
  {
   "cell_type": "code",
   "execution_count": 77,
   "metadata": {},
   "outputs": [
    {
     "data": {
      "text/plain": [
       "['identity',\n",
       " 'shot_noise',\n",
       " 'impulse_noise',\n",
       " 'glass_blur',\n",
       " 'motion_blur',\n",
       " 'shear',\n",
       " 'scale',\n",
       " 'rotate',\n",
       " 'brightness',\n",
       " 'translate',\n",
       " 'stripe',\n",
       " 'fog',\n",
       " 'spatter',\n",
       " 'dotted_line',\n",
       " 'zigzag',\n",
       " 'canny_edges']"
      ]
     },
     "execution_count": 77,
     "metadata": {},
     "output_type": "execute_result"
    }
   ],
   "source": [
    "all_corruptions"
   ]
  },
  {
   "cell_type": "code",
   "execution_count": null,
   "metadata": {},
   "outputs": [],
   "source": [
    "wds = sorted(alldirs)\n",
    "alphas = onp.linspace(0.3, 1., len(wds))[::-1]\n",
    "\n",
    "plt.figure(figsize=(3, 3))\n",
    "for i, wd in enumerate(wds):\n",
    "    std = onp.sqrt(1 / wd)\n",
    "    if hmc_ens_accs[wd] == []:\n",
    "        continue\n",
    "    plt.plot(noise_scales, hmc_ens_accs[wd], \"-\", lw=2, \n",
    "             label=\"std {:.2f}\".format(std), color=cmap(i))#, alpha=alphas[i], color=\"g\")\n",
    "\n",
    "plt.plot(noise_scales, sgd_ind_accs[\"SGD wd= 100.0\"], \"--b\", lw=2, label=\"SGD\", ms=10, color=cmap(len(wds)+1))\n",
    "\n",
    "plt.legend()\n",
    "plt.grid()\n",
    "plt.ylabel(\"Test Accuracy\", fontsize=14)\n",
    "plt.xlabel(\"Noise Scale\", fontsize=14)\n",
    "plt.savefig(\"gaussian_priors_gaussian_noise.pdf\", bbox_inches=\"tight\")"
   ]
  },
  {
   "cell_type": "code",
   "execution_count": null,
   "metadata": {},
   "outputs": [],
   "source": []
  },
  {
   "cell_type": "code",
   "execution_count": 45,
   "metadata": {},
   "outputs": [
    {
     "data": {
      "text/plain": [
       "{'identity': DeviceArray(0.983, dtype=float32),\n",
       " 'shot_noise': DeviceArray(0.9733, dtype=float32),\n",
       " 'impulse_noise': DeviceArray(0.9474, dtype=float32),\n",
       " 'glass_blur': DeviceArray(0.9343, dtype=float32),\n",
       " 'motion_blur': DeviceArray(0.8226, dtype=float32),\n",
       " 'shear': DeviceArray(0.9456, dtype=float32),\n",
       " 'scale': DeviceArray(0.7651, dtype=float32),\n",
       " 'rotate': DeviceArray(0.866, dtype=float32),\n",
       " 'brightness': DeviceArray(0.4217, dtype=float32),\n",
       " 'translate': DeviceArray(0.31129998, dtype=float32),\n",
       " 'stripe': DeviceArray(0.2402, dtype=float32),\n",
       " 'fog': DeviceArray(0.3746, dtype=float32),\n",
       " 'spatter': DeviceArray(0.968, dtype=float32),\n",
       " 'dotted_line': DeviceArray(0.96989995, dtype=float32),\n",
       " 'zigzag': DeviceArray(0.86469996, dtype=float32),\n",
       " 'canny_edges': DeviceArray(0.6383, dtype=float32)}"
      ]
     },
     "execution_count": 45,
     "metadata": {},
     "output_type": "execute_result"
    }
   ],
   "source": [
    "hmc_ens_accs[\"Gaussian wd=100.0 T=0.0003\"]"
   ]
  },
  {
   "cell_type": "code",
   "execution_count": 46,
   "metadata": {},
   "outputs": [
    {
     "data": {
      "text/plain": [
       "{'identity': DeviceArray(0.9833, dtype=float32),\n",
       " 'shot_noise': DeviceArray(0.97389996, dtype=float32),\n",
       " 'impulse_noise': DeviceArray(0.94699997, dtype=float32),\n",
       " 'glass_blur': DeviceArray(0.93509996, dtype=float32),\n",
       " 'motion_blur': DeviceArray(0.8147, dtype=float32),\n",
       " 'shear': DeviceArray(0.94479996, dtype=float32),\n",
       " 'scale': DeviceArray(0.76379997, dtype=float32),\n",
       " 'rotate': DeviceArray(0.86649996, dtype=float32),\n",
       " 'brightness': DeviceArray(0.429, dtype=float32),\n",
       " 'translate': DeviceArray(0.3145, dtype=float32),\n",
       " 'stripe': DeviceArray(0.2294, dtype=float32),\n",
       " 'fog': DeviceArray(0.378, dtype=float32),\n",
       " 'spatter': DeviceArray(0.9686, dtype=float32),\n",
       " 'dotted_line': DeviceArray(0.96989995, dtype=float32),\n",
       " 'zigzag': DeviceArray(0.8627, dtype=float32),\n",
       " 'canny_edges': DeviceArray(0.6347, dtype=float32)}"
      ]
     },
     "execution_count": 46,
     "metadata": {},
     "output_type": "execute_result"
    }
   ],
   "source": [
    "hmc_ind_accs[\"Gaussian wd=100.0 T=0.0003\"]"
   ]
  },
  {
   "cell_type": "markdown",
   "metadata": {},
   "source": [
    "## Noise along PCA directions"
   ]
  },
  {
   "cell_type": "code",
   "execution_count": 111,
   "metadata": {},
   "outputs": [],
   "source": [
    "from sklearn.decomposition import PCA\n",
    "\n",
    "mnist_tr_np = onp.asarray(train_set[0]).reshape(-1, 784)\n",
    "mnist_te_np = onp.asarray(test_set[0]).reshape(-1, 784)"
   ]
  },
  {
   "cell_type": "code",
   "execution_count": 112,
   "metadata": {},
   "outputs": [
    {
     "data": {
      "text/plain": [
       "PCA(n_components=50)"
      ]
     },
     "execution_count": 112,
     "metadata": {},
     "output_type": "execute_result"
    }
   ],
   "source": [
    "pca = PCA(n_components=50)\n",
    "pca.fit(mnist_tr_np)"
   ]
  },
  {
   "cell_type": "code",
   "execution_count": 113,
   "metadata": {},
   "outputs": [],
   "source": [
    "basis = (pca.components_)"
   ]
  },
  {
   "cell_type": "code",
   "execution_count": 115,
   "metadata": {},
   "outputs": [
    {
     "data": {
      "text/plain": [
       "<matplotlib.image.AxesImage at 0x7f866c336640>"
      ]
     },
     "execution_count": 115,
     "metadata": {},
     "output_type": "execute_result"
    },
    {
     "data": {
      "image/png": "[encoded data removed]",
      "text/plain": [
       "<Figure size 432x288 with 1 Axes>"
      ]
     },
     "metadata": {
      "needs_background": "light"
     },
     "output_type": "display_data"
    }
   ],
   "source": [
    "plt.imshow((mnist_tr_np[0] + 2 * onp.random.randn(50) @ basis).reshape(28, 28))"
   ]
  },
  {
   "cell_type": "code",
   "execution_count": 116,
   "metadata": {},
   "outputs": [
    {
     "data": {
      "text/plain": [
       "(8, 1250, 28, 28, 1)"
      ]
     },
     "execution_count": 116,
     "metadata": {},
     "output_type": "execute_result"
    }
   ],
   "source": [
    "test_set[0].shape"
   ]
  },
  {
   "cell_type": "code",
   "execution_count": 122,
   "metadata": {
    "scrolled": true
   },
   "outputs": [
    {
     "name": "stderr",
     "output_type": "stream",
     "text": [
      "  0%|          | 0/89 [00:00<?, ?it/s]/home/pavel/anaconda3/envs/py38/lib/python3.8/site-packages/numpy/core/_asarray.py:83: VisibleDeprecationWarning: Creating an ndarray from ragged nested sequences (which is a list-or-tuple of lists-or-tuples-or ndarrays with different lengths or shapes) is deprecated. If you meant to do this, you must specify 'dtype=object' when creating the ndarray\n",
      "  return array(a, dtype, copy=False, order=order)\n",
      "100%|██████████| 89/89 [00:00<00:00, 535.75it/s]\n",
      " 24%|██▎       | 21/89 [00:00<00:00, 208.91it/s]"
     ]
    },
    {
     "name": "stdout",
     "output_type": "stream",
     "text": [
      "10\n"
     ]
    },
    {
     "name": "stderr",
     "output_type": "stream",
     "text": [
      "100%|██████████| 89/89 [00:00<00:00, 214.00it/s]\n",
      " 19%|█▉        | 17/89 [00:00<00:00, 168.47it/s]"
     ]
    },
    {
     "name": "stdout",
     "output_type": "stream",
     "text": [
      "56\n"
     ]
    },
    {
     "name": "stderr",
     "output_type": "stream",
     "text": [
      "100%|██████████| 89/89 [00:00<00:00, 161.68it/s]\n",
      " 17%|█▋        | 15/89 [00:00<00:00, 146.35it/s]"
     ]
    },
    {
     "name": "stdout",
     "output_type": "stream",
     "text": [
      "81\n"
     ]
    },
    {
     "name": "stderr",
     "output_type": "stream",
     "text": [
      "100%|██████████| 89/89 [00:00<00:00, 152.04it/s]\n",
      " 16%|█▌        | 14/89 [00:00<00:00, 130.03it/s]"
     ]
    },
    {
     "name": "stdout",
     "output_type": "stream",
     "text": [
      "88\n"
     ]
    },
    {
     "name": "stderr",
     "output_type": "stream",
     "text": [
      "100%|██████████| 89/89 [00:00<00:00, 137.55it/s]\n",
      "100%|██████████| 89/89 [00:00<00:00, 7952.39it/s]\n",
      "100%|██████████| 89/89 [00:00<00:00, 106563.82it/s]\n",
      "  0%|          | 0/89 [00:00<?, ?it/s]"
     ]
    },
    {
     "name": "stdout",
     "output_type": "stream",
     "text": [
      "88\n",
      "0\n",
      "0\n"
     ]
    },
    {
     "name": "stderr",
     "output_type": "stream",
     "text": [
      "100%|██████████| 89/89 [00:00<00:00, 627.48it/s]\n",
      " 25%|██▍       | 22/89 [00:00<00:00, 212.28it/s]"
     ]
    },
    {
     "name": "stdout",
     "output_type": "stream",
     "text": [
      "10\n"
     ]
    },
    {
     "name": "stderr",
     "output_type": "stream",
     "text": [
      "100%|██████████| 89/89 [00:00<00:00, 223.50it/s]\n",
      " 20%|██        | 18/89 [00:00<00:00, 173.18it/s]"
     ]
    },
    {
     "name": "stdout",
     "output_type": "stream",
     "text": [
      "56\n"
     ]
    },
    {
     "name": "stderr",
     "output_type": "stream",
     "text": [
      "100%|██████████| 89/89 [00:00<00:00, 162.99it/s]\n",
      " 18%|█▊        | 16/89 [00:00<00:00, 150.83it/s]"
     ]
    },
    {
     "name": "stdout",
     "output_type": "stream",
     "text": [
      "81\n"
     ]
    },
    {
     "name": "stderr",
     "output_type": "stream",
     "text": [
      "100%|██████████| 89/89 [00:00<00:00, 152.61it/s]\n",
      " 18%|█▊        | 16/89 [00:00<00:00, 152.67it/s]"
     ]
    },
    {
     "name": "stdout",
     "output_type": "stream",
     "text": [
      "88\n"
     ]
    },
    {
     "name": "stderr",
     "output_type": "stream",
     "text": [
      "100%|██████████| 89/89 [00:00<00:00, 154.68it/s]\n",
      "100%|██████████| 89/89 [00:00<00:00, 8524.03it/s]\n",
      "100%|██████████| 89/89 [00:00<00:00, 90058.64it/s]\n",
      "  0%|          | 0/89 [00:00<?, ?it/s]"
     ]
    },
    {
     "name": "stdout",
     "output_type": "stream",
     "text": [
      "88\n",
      "0\n",
      "0\n"
     ]
    },
    {
     "name": "stderr",
     "output_type": "stream",
     "text": [
      "100%|██████████| 89/89 [00:00<00:00, 492.98it/s]\n",
      " 26%|██▌       | 23/89 [00:00<00:00, 217.42it/s]"
     ]
    },
    {
     "name": "stdout",
     "output_type": "stream",
     "text": [
      "10\n"
     ]
    },
    {
     "name": "stderr",
     "output_type": "stream",
     "text": [
      "100%|██████████| 89/89 [00:00<00:00, 233.44it/s]\n",
      " 20%|██        | 18/89 [00:00<00:00, 174.84it/s]"
     ]
    },
    {
     "name": "stdout",
     "output_type": "stream",
     "text": [
      "56\n"
     ]
    },
    {
     "name": "stderr",
     "output_type": "stream",
     "text": [
      "100%|██████████| 89/89 [00:00<00:00, 170.14it/s]\n",
      " 18%|█▊        | 16/89 [00:00<00:00, 159.58it/s]"
     ]
    },
    {
     "name": "stdout",
     "output_type": "stream",
     "text": [
      "81\n"
     ]
    },
    {
     "name": "stderr",
     "output_type": "stream",
     "text": [
      "100%|██████████| 89/89 [00:00<00:00, 157.34it/s]\n",
      " 18%|█▊        | 16/89 [00:00<00:00, 159.49it/s]"
     ]
    },
    {
     "name": "stdout",
     "output_type": "stream",
     "text": [
      "88\n"
     ]
    },
    {
     "name": "stderr",
     "output_type": "stream",
     "text": [
      "100%|██████████| 89/89 [00:00<00:00, 157.61it/s]\n",
      "100%|██████████| 89/89 [00:00<00:00, 8471.23it/s]\n",
      "100%|██████████| 89/89 [00:00<00:00, 92422.15it/s]\n",
      "  0%|          | 0/89 [00:00<?, ?it/s]"
     ]
    },
    {
     "name": "stdout",
     "output_type": "stream",
     "text": [
      "88\n",
      "0\n",
      "0\n"
     ]
    },
    {
     "name": "stderr",
     "output_type": "stream",
     "text": [
      "100%|██████████| 89/89 [00:00<00:00, 633.68it/s]\n",
      " 26%|██▌       | 23/89 [00:00<00:00, 218.46it/s]"
     ]
    },
    {
     "name": "stdout",
     "output_type": "stream",
     "text": [
      "10\n"
     ]
    },
    {
     "name": "stderr",
     "output_type": "stream",
     "text": [
      "100%|██████████| 89/89 [00:00<00:00, 232.11it/s]\n",
      " 20%|██        | 18/89 [00:00<00:00, 172.64it/s]"
     ]
    },
    {
     "name": "stdout",
     "output_type": "stream",
     "text": [
      "56\n"
     ]
    },
    {
     "name": "stderr",
     "output_type": "stream",
     "text": [
      "100%|██████████| 89/89 [00:00<00:00, 161.36it/s]\n",
      " 18%|█▊        | 16/89 [00:00<00:00, 159.18it/s]"
     ]
    },
    {
     "name": "stdout",
     "output_type": "stream",
     "text": [
      "81\n"
     ]
    },
    {
     "name": "stderr",
     "output_type": "stream",
     "text": [
      "100%|██████████| 89/89 [00:00<00:00, 158.02it/s]\n",
      " 18%|█▊        | 16/89 [00:00<00:00, 156.62it/s]"
     ]
    },
    {
     "name": "stdout",
     "output_type": "stream",
     "text": [
      "88\n"
     ]
    },
    {
     "name": "stderr",
     "output_type": "stream",
     "text": [
      "100%|██████████| 89/89 [00:00<00:00, 154.61it/s]\n",
      "100%|██████████| 89/89 [00:00<00:00, 7909.09it/s]\n",
      "100%|██████████| 89/89 [00:00<00:00, 86691.37it/s]\n"
     ]
    },
    {
     "name": "stdout",
     "output_type": "stream",
     "text": [
      "88\n",
      "0\n",
      "0\n"
     ]
    },
    {
     "name": "stderr",
     "output_type": "stream",
     "text": [
      "100%|██████████| 89/89 [00:00<00:00, 763.87it/s]\n",
      " 24%|██▎       | 21/89 [00:00<00:00, 205.42it/s]"
     ]
    },
    {
     "name": "stdout",
     "output_type": "stream",
     "text": [
      "10\n"
     ]
    },
    {
     "name": "stderr",
     "output_type": "stream",
     "text": [
      "100%|██████████| 89/89 [00:00<00:00, 203.39it/s]\n",
      " 20%|██        | 18/89 [00:00<00:00, 179.59it/s]"
     ]
    },
    {
     "name": "stdout",
     "output_type": "stream",
     "text": [
      "56\n"
     ]
    },
    {
     "name": "stderr",
     "output_type": "stream",
     "text": [
      "100%|██████████| 89/89 [00:00<00:00, 168.10it/s]\n",
      " 18%|█▊        | 16/89 [00:00<00:00, 157.37it/s]"
     ]
    },
    {
     "name": "stdout",
     "output_type": "stream",
     "text": [
      "81\n"
     ]
    },
    {
     "name": "stderr",
     "output_type": "stream",
     "text": [
      "100%|██████████| 89/89 [00:00<00:00, 156.79it/s]\n",
      " 18%|█▊        | 16/89 [00:00<00:00, 151.81it/s]"
     ]
    },
    {
     "name": "stdout",
     "output_type": "stream",
     "text": [
      "88\n"
     ]
    },
    {
     "name": "stderr",
     "output_type": "stream",
     "text": [
      "100%|██████████| 89/89 [00:00<00:00, 149.52it/s]\n",
      "100%|██████████| 89/89 [00:00<00:00, 8301.86it/s]\n",
      "100%|██████████| 89/89 [00:00<00:00, 85755.35it/s]\n",
      "  0%|          | 0/89 [00:00<?, ?it/s]"
     ]
    },
    {
     "name": "stdout",
     "output_type": "stream",
     "text": [
      "88\n",
      "0\n",
      "0\n"
     ]
    },
    {
     "name": "stderr",
     "output_type": "stream",
     "text": [
      "100%|██████████| 89/89 [00:00<00:00, 677.27it/s]\n",
      " 24%|██▎       | 21/89 [00:00<00:00, 209.37it/s]"
     ]
    },
    {
     "name": "stdout",
     "output_type": "stream",
     "text": [
      "10\n"
     ]
    },
    {
     "name": "stderr",
     "output_type": "stream",
     "text": [
      "100%|██████████| 89/89 [00:00<00:00, 210.80it/s]\n",
      " 17%|█▋        | 15/89 [00:00<00:00, 149.71it/s]"
     ]
    },
    {
     "name": "stdout",
     "output_type": "stream",
     "text": [
      "56\n"
     ]
    },
    {
     "name": "stderr",
     "output_type": "stream",
     "text": [
      "100%|██████████| 89/89 [00:00<00:00, 145.34it/s]\n",
      " 18%|█▊        | 16/89 [00:00<00:00, 150.59it/s]"
     ]
    },
    {
     "name": "stdout",
     "output_type": "stream",
     "text": [
      "81\n"
     ]
    },
    {
     "name": "stderr",
     "output_type": "stream",
     "text": [
      "100%|██████████| 89/89 [00:00<00:00, 148.28it/s]\n",
      " 17%|█▋        | 15/89 [00:00<00:00, 146.87it/s]"
     ]
    },
    {
     "name": "stdout",
     "output_type": "stream",
     "text": [
      "88\n"
     ]
    },
    {
     "name": "stderr",
     "output_type": "stream",
     "text": [
      "100%|██████████| 89/89 [00:00<00:00, 131.39it/s]\n",
      "100%|██████████| 89/89 [00:00<00:00, 8478.73it/s]\n",
      "100%|██████████| 89/89 [00:00<00:00, 99043.00it/s]\n",
      "  0%|          | 0/89 [00:00<?, ?it/s]"
     ]
    },
    {
     "name": "stdout",
     "output_type": "stream",
     "text": [
      "88\n",
      "0\n",
      "0\n"
     ]
    },
    {
     "name": "stderr",
     "output_type": "stream",
     "text": [
      "100%|██████████| 89/89 [00:00<00:00, 580.89it/s]\n",
      " 25%|██▍       | 22/89 [00:00<00:00, 217.38it/s]"
     ]
    },
    {
     "name": "stdout",
     "output_type": "stream",
     "text": [
      "10\n"
     ]
    },
    {
     "name": "stderr",
     "output_type": "stream",
     "text": [
      "100%|██████████| 89/89 [00:00<00:00, 228.55it/s]\n",
      " 20%|██        | 18/89 [00:00<00:00, 170.10it/s]"
     ]
    },
    {
     "name": "stdout",
     "output_type": "stream",
     "text": [
      "56\n"
     ]
    },
    {
     "name": "stderr",
     "output_type": "stream",
     "text": [
      "100%|██████████| 89/89 [00:00<00:00, 164.67it/s]\n",
      " 17%|█▋        | 15/89 [00:00<00:00, 149.29it/s]"
     ]
    },
    {
     "name": "stdout",
     "output_type": "stream",
     "text": [
      "81\n"
     ]
    },
    {
     "name": "stderr",
     "output_type": "stream",
     "text": [
      "100%|██████████| 89/89 [00:00<00:00, 152.24it/s]\n",
      " 18%|█▊        | 16/89 [00:00<00:00, 152.95it/s]"
     ]
    },
    {
     "name": "stdout",
     "output_type": "stream",
     "text": [
      "88\n"
     ]
    },
    {
     "name": "stderr",
     "output_type": "stream",
     "text": [
      "100%|██████████| 89/89 [00:00<00:00, 152.06it/s]\n",
      "100%|██████████| 89/89 [00:00<00:00, 8529.10it/s]\n",
      "100%|██████████| 89/89 [00:00<00:00, 94147.05it/s]\n",
      "  0%|          | 0/89 [00:00<?, ?it/s]"
     ]
    },
    {
     "name": "stdout",
     "output_type": "stream",
     "text": [
      "88\n",
      "0\n",
      "0\n"
     ]
    },
    {
     "name": "stderr",
     "output_type": "stream",
     "text": [
      "100%|██████████| 89/89 [00:00<00:00, 643.84it/s]\n",
      " 25%|██▍       | 22/89 [00:00<00:00, 207.37it/s]"
     ]
    },
    {
     "name": "stdout",
     "output_type": "stream",
     "text": [
      "10\n"
     ]
    },
    {
     "name": "stderr",
     "output_type": "stream",
     "text": [
      "100%|██████████| 89/89 [00:00<00:00, 224.90it/s]\n",
      " 20%|██        | 18/89 [00:00<00:00, 170.84it/s]"
     ]
    },
    {
     "name": "stdout",
     "output_type": "stream",
     "text": [
      "56\n"
     ]
    },
    {
     "name": "stderr",
     "output_type": "stream",
     "text": [
      "100%|██████████| 89/89 [00:00<00:00, 163.30it/s]\n",
      " 17%|█▋        | 15/89 [00:00<00:00, 148.49it/s]"
     ]
    },
    {
     "name": "stdout",
     "output_type": "stream",
     "text": [
      "81\n"
     ]
    },
    {
     "name": "stderr",
     "output_type": "stream",
     "text": [
      "100%|██████████| 89/89 [00:00<00:00, 143.51it/s]\n",
      " 17%|█▋        | 15/89 [00:00<00:00, 141.62it/s]"
     ]
    },
    {
     "name": "stdout",
     "output_type": "stream",
     "text": [
      "88\n"
     ]
    },
    {
     "name": "stderr",
     "output_type": "stream",
     "text": [
      "100%|██████████| 89/89 [00:00<00:00, 146.34it/s]\n",
      "100%|██████████| 89/89 [00:00<00:00, 8383.90it/s]\n",
      "100%|██████████| 89/89 [00:00<00:00, 123199.03it/s]\n",
      "  0%|          | 0/89 [00:00<?, ?it/s]"
     ]
    },
    {
     "name": "stdout",
     "output_type": "stream",
     "text": [
      "88\n",
      "0\n",
      "0\n"
     ]
    },
    {
     "name": "stderr",
     "output_type": "stream",
     "text": [
      "100%|██████████| 89/89 [00:00<00:00, 683.03it/s]\n",
      " 21%|██▏       | 19/89 [00:00<00:00, 179.89it/s]"
     ]
    },
    {
     "name": "stdout",
     "output_type": "stream",
     "text": [
      "10\n"
     ]
    },
    {
     "name": "stderr",
     "output_type": "stream",
     "text": [
      "100%|██████████| 89/89 [00:00<00:00, 201.34it/s]\n",
      " 18%|█▊        | 16/89 [00:00<00:00, 156.39it/s]"
     ]
    },
    {
     "name": "stdout",
     "output_type": "stream",
     "text": [
      "56\n"
     ]
    },
    {
     "name": "stderr",
     "output_type": "stream",
     "text": [
      "100%|██████████| 89/89 [00:00<00:00, 153.07it/s]\n",
      " 17%|█▋        | 15/89 [00:00<00:00, 149.10it/s]"
     ]
    },
    {
     "name": "stdout",
     "output_type": "stream",
     "text": [
      "81\n"
     ]
    },
    {
     "name": "stderr",
     "output_type": "stream",
     "text": [
      "100%|██████████| 89/89 [00:00<00:00, 143.41it/s]\n",
      " 16%|█▌        | 14/89 [00:00<00:00, 139.98it/s]"
     ]
    },
    {
     "name": "stdout",
     "output_type": "stream",
     "text": [
      "88\n"
     ]
    },
    {
     "name": "stderr",
     "output_type": "stream",
     "text": [
      "100%|██████████| 89/89 [00:00<00:00, 146.10it/s]\n",
      "100%|██████████| 89/89 [00:00<00:00, 8406.37it/s]\n",
      "100%|██████████| 89/89 [00:00<00:00, 96383.44it/s]\n",
      "  0%|          | 0/89 [00:00<?, ?it/s]"
     ]
    },
    {
     "name": "stdout",
     "output_type": "stream",
     "text": [
      "88\n",
      "0\n",
      "0\n"
     ]
    },
    {
     "name": "stderr",
     "output_type": "stream",
     "text": [
      "100%|██████████| 89/89 [00:00<00:00, 614.78it/s]\n",
      " 25%|██▍       | 22/89 [00:00<00:00, 206.32it/s]"
     ]
    },
    {
     "name": "stdout",
     "output_type": "stream",
     "text": [
      "10\n"
     ]
    },
    {
     "name": "stderr",
     "output_type": "stream",
     "text": [
      "100%|██████████| 89/89 [00:00<00:00, 216.10it/s]\n",
      " 19%|█▉        | 17/89 [00:00<00:00, 160.35it/s]"
     ]
    },
    {
     "name": "stdout",
     "output_type": "stream",
     "text": [
      "56\n"
     ]
    },
    {
     "name": "stderr",
     "output_type": "stream",
     "text": [
      "100%|██████████| 89/89 [00:00<00:00, 155.22it/s]\n",
      " 17%|█▋        | 15/89 [00:00<00:00, 142.49it/s]"
     ]
    },
    {
     "name": "stdout",
     "output_type": "stream",
     "text": [
      "81\n"
     ]
    },
    {
     "name": "stderr",
     "output_type": "stream",
     "text": [
      "100%|██████████| 89/89 [00:00<00:00, 145.08it/s]\n",
      " 16%|█▌        | 14/89 [00:00<00:00, 133.30it/s]"
     ]
    },
    {
     "name": "stdout",
     "output_type": "stream",
     "text": [
      "88\n"
     ]
    },
    {
     "name": "stderr",
     "output_type": "stream",
     "text": [
      "100%|██████████| 89/89 [00:00<00:00, 149.02it/s]\n",
      "100%|██████████| 89/89 [00:00<00:00, 8074.69it/s]\n",
      "100%|██████████| 89/89 [00:00<00:00, 79204.98it/s]\n",
      "  0%|          | 0/89 [00:00<?, ?it/s]"
     ]
    },
    {
     "name": "stdout",
     "output_type": "stream",
     "text": [
      "88\n",
      "0\n",
      "0\n"
     ]
    },
    {
     "name": "stderr",
     "output_type": "stream",
     "text": [
      "100%|██████████| 89/89 [00:00<00:00, 635.78it/s]\n",
      " 26%|██▌       | 23/89 [00:00<00:00, 216.29it/s]"
     ]
    },
    {
     "name": "stdout",
     "output_type": "stream",
     "text": [
      "10\n"
     ]
    },
    {
     "name": "stderr",
     "output_type": "stream",
     "text": [
      "100%|██████████| 89/89 [00:00<00:00, 229.78it/s]\n",
      " 19%|█▉        | 17/89 [00:00<00:00, 160.82it/s]"
     ]
    },
    {
     "name": "stdout",
     "output_type": "stream",
     "text": [
      "56\n"
     ]
    },
    {
     "name": "stderr",
     "output_type": "stream",
     "text": [
      "100%|██████████| 89/89 [00:00<00:00, 147.74it/s]\n",
      " 16%|█▌        | 14/89 [00:00<00:00, 131.99it/s]"
     ]
    },
    {
     "name": "stdout",
     "output_type": "stream",
     "text": [
      "81\n"
     ]
    },
    {
     "name": "stderr",
     "output_type": "stream",
     "text": [
      "100%|██████████| 89/89 [00:00<00:00, 136.63it/s]\n",
      " 17%|█▋        | 15/89 [00:00<00:00, 144.78it/s]"
     ]
    },
    {
     "name": "stdout",
     "output_type": "stream",
     "text": [
      "88\n"
     ]
    },
    {
     "name": "stderr",
     "output_type": "stream",
     "text": [
      "100%|██████████| 89/89 [00:00<00:00, 145.35it/s]\n",
      "100%|██████████| 89/89 [00:00<00:00, 8461.43it/s]\n",
      "100%|██████████| 89/89 [00:00<00:00, 122874.61it/s]\n",
      "  0%|          | 0/89 [00:00<?, ?it/s]"
     ]
    },
    {
     "name": "stdout",
     "output_type": "stream",
     "text": [
      "88\n",
      "0\n",
      "0\n"
     ]
    },
    {
     "name": "stderr",
     "output_type": "stream",
     "text": [
      "100%|██████████| 89/89 [00:00<00:00, 636.11it/s]\n",
      " 25%|██▍       | 22/89 [00:00<00:00, 207.59it/s]"
     ]
    },
    {
     "name": "stdout",
     "output_type": "stream",
     "text": [
      "10\n"
     ]
    },
    {
     "name": "stderr",
     "output_type": "stream",
     "text": [
      "100%|██████████| 89/89 [00:00<00:00, 219.55it/s]\n",
      " 19%|█▉        | 17/89 [00:00<00:00, 168.63it/s]"
     ]
    },
    {
     "name": "stdout",
     "output_type": "stream",
     "text": [
      "56\n"
     ]
    },
    {
     "name": "stderr",
     "output_type": "stream",
     "text": [
      "100%|██████████| 89/89 [00:00<00:00, 158.72it/s]\n",
      " 18%|█▊        | 16/89 [00:00<00:00, 150.58it/s]"
     ]
    },
    {
     "name": "stdout",
     "output_type": "stream",
     "text": [
      "81\n"
     ]
    },
    {
     "name": "stderr",
     "output_type": "stream",
     "text": [
      "100%|██████████| 89/89 [00:00<00:00, 148.59it/s]\n",
      " 17%|█▋        | 15/89 [00:00<00:00, 148.69it/s]"
     ]
    },
    {
     "name": "stdout",
     "output_type": "stream",
     "text": [
      "88\n"
     ]
    },
    {
     "name": "stderr",
     "output_type": "stream",
     "text": [
      "100%|██████████| 89/89 [00:00<00:00, 134.72it/s]\n",
      "100%|██████████| 89/89 [00:00<00:00, 8436.76it/s]\n",
      "100%|██████████| 89/89 [00:00<00:00, 88269.82it/s]\n",
      "  0%|          | 0/89 [00:00<?, ?it/s]"
     ]
    },
    {
     "name": "stdout",
     "output_type": "stream",
     "text": [
      "88\n",
      "0\n",
      "0\n"
     ]
    },
    {
     "name": "stderr",
     "output_type": "stream",
     "text": [
      "100%|██████████| 89/89 [00:00<00:00, 621.76it/s]\n",
      " 25%|██▍       | 22/89 [00:00<00:00, 204.16it/s]"
     ]
    },
    {
     "name": "stdout",
     "output_type": "stream",
     "text": [
      "10\n"
     ]
    },
    {
     "name": "stderr",
     "output_type": "stream",
     "text": [
      "100%|██████████| 89/89 [00:00<00:00, 207.84it/s]\n",
      " 20%|██        | 18/89 [00:00<00:00, 171.64it/s]"
     ]
    },
    {
     "name": "stdout",
     "output_type": "stream",
     "text": [
      "56\n"
     ]
    },
    {
     "name": "stderr",
     "output_type": "stream",
     "text": [
      "100%|██████████| 89/89 [00:00<00:00, 164.88it/s]\n",
      " 18%|█▊        | 16/89 [00:00<00:00, 157.52it/s]"
     ]
    },
    {
     "name": "stdout",
     "output_type": "stream",
     "text": [
      "81\n"
     ]
    },
    {
     "name": "stderr",
     "output_type": "stream",
     "text": [
      "100%|██████████| 89/89 [00:00<00:00, 157.02it/s]\n",
      " 17%|█▋        | 15/89 [00:00<00:00, 148.26it/s]"
     ]
    },
    {
     "name": "stdout",
     "output_type": "stream",
     "text": [
      "88\n"
     ]
    },
    {
     "name": "stderr",
     "output_type": "stream",
     "text": [
      "100%|██████████| 89/89 [00:00<00:00, 148.20it/s]\n",
      "100%|██████████| 89/89 [00:00<00:00, 8185.89it/s]\n",
      "100%|██████████| 89/89 [00:00<00:00, 81380.65it/s]\n",
      "  0%|          | 0/89 [00:00<?, ?it/s]"
     ]
    },
    {
     "name": "stdout",
     "output_type": "stream",
     "text": [
      "88\n",
      "0\n",
      "0\n"
     ]
    },
    {
     "name": "stderr",
     "output_type": "stream",
     "text": [
      "100%|██████████| 89/89 [00:00<00:00, 631.86it/s]\n",
      " 24%|██▎       | 21/89 [00:00<00:00, 195.59it/s]"
     ]
    },
    {
     "name": "stdout",
     "output_type": "stream",
     "text": [
      "10\n"
     ]
    },
    {
     "name": "stderr",
     "output_type": "stream",
     "text": [
      "100%|██████████| 89/89 [00:00<00:00, 218.26it/s]\n",
      " 20%|██        | 18/89 [00:00<00:00, 171.45it/s]"
     ]
    },
    {
     "name": "stdout",
     "output_type": "stream",
     "text": [
      "56\n"
     ]
    },
    {
     "name": "stderr",
     "output_type": "stream",
     "text": [
      "100%|██████████| 89/89 [00:00<00:00, 160.23it/s]\n",
      " 17%|█▋        | 15/89 [00:00<00:00, 148.47it/s]"
     ]
    },
    {
     "name": "stdout",
     "output_type": "stream",
     "text": [
      "81\n"
     ]
    },
    {
     "name": "stderr",
     "output_type": "stream",
     "text": [
      "100%|██████████| 89/89 [00:00<00:00, 145.03it/s]\n",
      " 15%|█▍        | 13/89 [00:00<00:00, 128.73it/s]"
     ]
    },
    {
     "name": "stdout",
     "output_type": "stream",
     "text": [
      "88\n"
     ]
    },
    {
     "name": "stderr",
     "output_type": "stream",
     "text": [
      "100%|██████████| 89/89 [00:00<00:00, 137.18it/s]\n",
      "100%|██████████| 89/89 [00:00<00:00, 8148.55it/s]\n",
      "100%|██████████| 89/89 [00:00<00:00, 96632.94it/s]\n",
      "  0%|          | 0/89 [00:00<?, ?it/s]"
     ]
    },
    {
     "name": "stdout",
     "output_type": "stream",
     "text": [
      "88\n",
      "0\n",
      "0\n"
     ]
    },
    {
     "name": "stderr",
     "output_type": "stream",
     "text": [
      "100%|██████████| 89/89 [00:00<00:00, 546.53it/s]\n",
      " 24%|██▎       | 21/89 [00:00<00:00, 202.50it/s]"
     ]
    },
    {
     "name": "stdout",
     "output_type": "stream",
     "text": [
      "10\n"
     ]
    },
    {
     "name": "stderr",
     "output_type": "stream",
     "text": [
      "100%|██████████| 89/89 [00:00<00:00, 211.32it/s]\n",
      " 19%|█▉        | 17/89 [00:00<00:00, 159.35it/s]"
     ]
    },
    {
     "name": "stdout",
     "output_type": "stream",
     "text": [
      "56\n"
     ]
    },
    {
     "name": "stderr",
     "output_type": "stream",
     "text": [
      "100%|██████████| 89/89 [00:00<00:00, 156.33it/s]\n",
      " 16%|█▌        | 14/89 [00:00<00:00, 139.24it/s]"
     ]
    },
    {
     "name": "stdout",
     "output_type": "stream",
     "text": [
      "81\n"
     ]
    },
    {
     "name": "stderr",
     "output_type": "stream",
     "text": [
      "100%|██████████| 89/89 [00:00<00:00, 149.64it/s]\n",
      " 18%|█▊        | 16/89 [00:00<00:00, 153.10it/s]"
     ]
    },
    {
     "name": "stdout",
     "output_type": "stream",
     "text": [
      "88\n"
     ]
    },
    {
     "name": "stderr",
     "output_type": "stream",
     "text": [
      "100%|██████████| 89/89 [00:00<00:00, 153.19it/s]\n",
      "100%|██████████| 89/89 [00:00<00:00, 8300.38it/s]\n",
      "100%|██████████| 89/89 [00:00<00:00, 98650.38it/s]\n"
     ]
    },
    {
     "name": "stdout",
     "output_type": "stream",
     "text": [
      "88\n",
      "0\n",
      "0\n"
     ]
    },
    {
     "name": "stderr",
     "output_type": "stream",
     "text": [
      "100%|██████████| 89/89 [00:00<00:00, 788.33it/s]\n",
      " 25%|██▍       | 22/89 [00:00<00:00, 212.54it/s]"
     ]
    },
    {
     "name": "stdout",
     "output_type": "stream",
     "text": [
      "10\n"
     ]
    },
    {
     "name": "stderr",
     "output_type": "stream",
     "text": [
      "100%|██████████| 89/89 [00:00<00:00, 230.46it/s]\n",
      " 19%|█▉        | 17/89 [00:00<00:00, 166.23it/s]"
     ]
    },
    {
     "name": "stdout",
     "output_type": "stream",
     "text": [
      "56\n"
     ]
    },
    {
     "name": "stderr",
     "output_type": "stream",
     "text": [
      "100%|██████████| 89/89 [00:00<00:00, 160.40it/s]\n",
      " 18%|█▊        | 16/89 [00:00<00:00, 153.39it/s]"
     ]
    },
    {
     "name": "stdout",
     "output_type": "stream",
     "text": [
      "81\n"
     ]
    },
    {
     "name": "stderr",
     "output_type": "stream",
     "text": [
      "100%|██████████| 89/89 [00:00<00:00, 151.50it/s]\n",
      " 18%|█▊        | 16/89 [00:00<00:00, 151.82it/s]"
     ]
    },
    {
     "name": "stdout",
     "output_type": "stream",
     "text": [
      "88\n"
     ]
    },
    {
     "name": "stderr",
     "output_type": "stream",
     "text": [
      "100%|██████████| 89/89 [00:00<00:00, 150.67it/s]\n",
      "100%|██████████| 89/89 [00:00<00:00, 7454.23it/s]\n",
      "100%|██████████| 89/89 [00:00<00:00, 77142.60it/s]\n",
      "  0%|          | 0/89 [00:00<?, ?it/s]"
     ]
    },
    {
     "name": "stdout",
     "output_type": "stream",
     "text": [
      "88\n",
      "0\n",
      "0\n"
     ]
    },
    {
     "name": "stderr",
     "output_type": "stream",
     "text": [
      "100%|██████████| 89/89 [00:00<00:00, 626.90it/s]\n",
      " 25%|██▍       | 22/89 [00:00<00:00, 213.71it/s]"
     ]
    },
    {
     "name": "stdout",
     "output_type": "stream",
     "text": [
      "10\n"
     ]
    },
    {
     "name": "stderr",
     "output_type": "stream",
     "text": [
      "100%|██████████| 89/89 [00:00<00:00, 221.39it/s]\n",
      " 19%|█▉        | 17/89 [00:00<00:00, 167.54it/s]"
     ]
    },
    {
     "name": "stdout",
     "output_type": "stream",
     "text": [
      "56\n"
     ]
    },
    {
     "name": "stderr",
     "output_type": "stream",
     "text": [
      "100%|██████████| 89/89 [00:00<00:00, 164.79it/s]\n",
      " 18%|█▊        | 16/89 [00:00<00:00, 153.76it/s]"
     ]
    },
    {
     "name": "stdout",
     "output_type": "stream",
     "text": [
      "81\n"
     ]
    },
    {
     "name": "stderr",
     "output_type": "stream",
     "text": [
      "100%|██████████| 89/89 [00:00<00:00, 151.18it/s]\n",
      " 17%|█▋        | 15/89 [00:00<00:00, 148.20it/s]"
     ]
    },
    {
     "name": "stdout",
     "output_type": "stream",
     "text": [
      "88\n"
     ]
    },
    {
     "name": "stderr",
     "output_type": "stream",
     "text": [
      "100%|██████████| 89/89 [00:00<00:00, 143.74it/s]\n",
      "100%|██████████| 89/89 [00:00<00:00, 8375.43it/s]\n",
      "100%|██████████| 89/89 [00:00<00:00, 74509.59it/s]\n",
      "  0%|          | 0/89 [00:00<?, ?it/s]"
     ]
    },
    {
     "name": "stdout",
     "output_type": "stream",
     "text": [
      "88\n",
      "0\n",
      "0\n"
     ]
    },
    {
     "name": "stderr",
     "output_type": "stream",
     "text": [
      "100%|██████████| 89/89 [00:00<00:00, 634.62it/s]\n",
      " 25%|██▍       | 22/89 [00:00<00:00, 211.53it/s]"
     ]
    },
    {
     "name": "stdout",
     "output_type": "stream",
     "text": [
      "10\n"
     ]
    },
    {
     "name": "stderr",
     "output_type": "stream",
     "text": [
      "100%|██████████| 89/89 [00:00<00:00, 226.89it/s]\n",
      " 20%|██        | 18/89 [00:00<00:00, 173.93it/s]"
     ]
    },
    {
     "name": "stdout",
     "output_type": "stream",
     "text": [
      "56\n"
     ]
    },
    {
     "name": "stderr",
     "output_type": "stream",
     "text": [
      "100%|██████████| 89/89 [00:00<00:00, 169.43it/s]\n",
      " 18%|█▊        | 16/89 [00:00<00:00, 158.38it/s]"
     ]
    },
    {
     "name": "stdout",
     "output_type": "stream",
     "text": [
      "81\n"
     ]
    },
    {
     "name": "stderr",
     "output_type": "stream",
     "text": [
      "100%|██████████| 89/89 [00:00<00:00, 158.48it/s]\n",
      " 18%|█▊        | 16/89 [00:00<00:00, 155.44it/s]"
     ]
    },
    {
     "name": "stdout",
     "output_type": "stream",
     "text": [
      "88\n"
     ]
    },
    {
     "name": "stderr",
     "output_type": "stream",
     "text": [
      "100%|██████████| 89/89 [00:00<00:00, 153.06it/s]\n",
      "100%|██████████| 89/89 [00:00<00:00, 8637.44it/s]\n",
      "100%|██████████| 89/89 [00:00<00:00, 90102.11it/s]\n",
      "  0%|          | 0/89 [00:00<?, ?it/s]"
     ]
    },
    {
     "name": "stdout",
     "output_type": "stream",
     "text": [
      "88\n",
      "0\n",
      "0\n"
     ]
    },
    {
     "name": "stderr",
     "output_type": "stream",
     "text": [
      "100%|██████████| 89/89 [00:00<00:00, 611.49it/s]\n",
      " 22%|██▏       | 20/89 [00:00<00:00, 190.24it/s]"
     ]
    },
    {
     "name": "stdout",
     "output_type": "stream",
     "text": [
      "10\n"
     ]
    },
    {
     "name": "stderr",
     "output_type": "stream",
     "text": [
      "100%|██████████| 89/89 [00:00<00:00, 208.01it/s]\n",
      " 20%|██        | 18/89 [00:00<00:00, 173.02it/s]"
     ]
    },
    {
     "name": "stdout",
     "output_type": "stream",
     "text": [
      "56\n"
     ]
    },
    {
     "name": "stderr",
     "output_type": "stream",
     "text": [
      "100%|██████████| 89/89 [00:00<00:00, 161.32it/s]\n",
      " 16%|█▌        | 14/89 [00:00<00:00, 137.91it/s]"
     ]
    },
    {
     "name": "stdout",
     "output_type": "stream",
     "text": [
      "81\n"
     ]
    },
    {
     "name": "stderr",
     "output_type": "stream",
     "text": [
      "100%|██████████| 89/89 [00:00<00:00, 146.45it/s]\n",
      " 18%|█▊        | 16/89 [00:00<00:00, 153.62it/s]"
     ]
    },
    {
     "name": "stdout",
     "output_type": "stream",
     "text": [
      "88\n"
     ]
    },
    {
     "name": "stderr",
     "output_type": "stream",
     "text": [
      "100%|██████████| 89/89 [00:00<00:00, 148.62it/s]\n",
      "100%|██████████| 89/89 [00:00<00:00, 8339.14it/s]\n",
      "100%|██████████| 89/89 [00:00<00:00, 123402.66it/s]\n",
      "  0%|          | 0/89 [00:00<?, ?it/s]"
     ]
    },
    {
     "name": "stdout",
     "output_type": "stream",
     "text": [
      "88\n",
      "0\n",
      "0\n"
     ]
    },
    {
     "name": "stderr",
     "output_type": "stream",
     "text": [
      "100%|██████████| 89/89 [00:00<00:00, 621.25it/s]\n",
      " 25%|██▍       | 22/89 [00:00<00:00, 216.77it/s]"
     ]
    },
    {
     "name": "stdout",
     "output_type": "stream",
     "text": [
      "10\n"
     ]
    },
    {
     "name": "stderr",
     "output_type": "stream",
     "text": [
      "100%|██████████| 89/89 [00:00<00:00, 229.47it/s]\n",
      " 20%|██        | 18/89 [00:00<00:00, 174.47it/s]"
     ]
    },
    {
     "name": "stdout",
     "output_type": "stream",
     "text": [
      "56\n"
     ]
    },
    {
     "name": "stderr",
     "output_type": "stream",
     "text": [
      "100%|██████████| 89/89 [00:00<00:00, 168.87it/s]\n",
      " 18%|█▊        | 16/89 [00:00<00:00, 152.44it/s]"
     ]
    },
    {
     "name": "stdout",
     "output_type": "stream",
     "text": [
      "81\n"
     ]
    },
    {
     "name": "stderr",
     "output_type": "stream",
     "text": [
      "100%|██████████| 89/89 [00:00<00:00, 155.98it/s]\n",
      " 18%|█▊        | 16/89 [00:00<00:00, 155.54it/s]"
     ]
    },
    {
     "name": "stdout",
     "output_type": "stream",
     "text": [
      "88\n"
     ]
    },
    {
     "name": "stderr",
     "output_type": "stream",
     "text": [
      "100%|██████████| 89/89 [00:00<00:00, 152.85it/s]\n",
      "100%|██████████| 89/89 [00:00<00:00, 8358.74it/s]\n",
      "100%|██████████| 89/89 [00:00<00:00, 97848.77it/s]\n"
     ]
    },
    {
     "name": "stdout",
     "output_type": "stream",
     "text": [
      "88\n",
      "0\n",
      "0\n"
     ]
    }
   ],
   "source": [
    "sgd_ind_accs = {key: [] for key in sgddirs}\n",
    "hmc_ind_accs = {key: [] for key in alldirs}\n",
    "hmc_ens_accs = {key: [] for key in alldirs}\n",
    "n_test = 10000\n",
    "\n",
    "noise_scales = onp.linspace(0, 10., 20)\n",
    "for noise_scale in noise_scales:\n",
    "    noise = (onp.random.randn(n_test, 50) @ basis).reshape(test_set[0].shape)\n",
    "    noisy_test_set = test_set[0] + jnp.array(noise) * noise_scale, test_set[1]\n",
    "    \n",
    "    for key, path in alldirs.items():\n",
    "        hmc_predictions, predictions = predict_hmc(noisy_test_set, path)\n",
    "        if hmc_predictions is None:\n",
    "            continue\n",
    "        hmc_ens_accs[key].append(metrics.accuracy(hmc_predictions, test_labels))\n",
    "        hmc_ind_accs[key].append(metrics.accuracy(predictions, test_labels))\n",
    "\n",
    "    \n",
    "    for key, path in sgddirs.items():\n",
    "        checkpoint_dict = checkpoint_utils.load_checkpoint(path)\n",
    "        _, params, net_state, _, _ = (\n",
    "            checkpoint_utils.parse_sgd_checkpoint_dict(checkpoint_dict))\n",
    "        predictions = onp.asarray(predict_fn(net_apply, params, net_state, noisy_test_set)[1])\n",
    "        sgd_ind_accs[key].append(metrics.accuracy(predictions, test_labels))"
   ]
  },
  {
   "cell_type": "code",
   "execution_count": 125,
   "metadata": {},
   "outputs": [
    {
     "data": {
      "text/plain": [
       "Text(0.5, 0, 'Noise Scale')"
      ]
     },
     "execution_count": 125,
     "metadata": {},
     "output_type": "execute_result"
    },
    {
     "data": {
      "image/png": "[encoded data removed]",
      "text/plain": [
       "<Figure size 216x216 with 1 Axes>"
      ]
     },
     "metadata": {
      "needs_background": "light"
     },
     "output_type": "display_data"
    }
   ],
   "source": [
    "wds = sorted(alldirs)\n",
    "wds = [wd for wd in wds if hmc_ens_accs[wd] != []]\n",
    "alphas = onp.linspace(0.3, 1., len(wds))[::-1]\n",
    "\n",
    "plt.figure(figsize=(3, 3))\n",
    "\n",
    "wd = 10.\n",
    "std = onp.sqrt(1 / wd)\n",
    "plt.plot(noise_scales, hmc_ens_accs[wd], \"-\", lw=2, \n",
    "         label=\"HMC\".format(std), color=\"g\")#, alpha=alphas[i], color=\"g\")\n",
    "\n",
    "plt.plot(noise_scales, sgd_ind_accs[\"SGD wd= 100.0\"], \"--k\", lw=2, label=\"SGD\", ms=10)\n",
    "\n",
    "plt.legend()\n",
    "plt.grid()\n",
    "plt.ylabel(\"Test Accuracy\", fontsize=14)\n",
    "plt.xlabel(\"Noise Scale\", fontsize=14)\n",
    "plt.savefig(\"gaussian_prior_pca_gaussian_noise.pdf\", bbox_inches=\"tight\")"
   ]
  },
  {
   "cell_type": "code",
   "execution_count": null,
   "metadata": {},
   "outputs": [],
   "source": []
  },
  {
   "cell_type": "code",
   "execution_count": 27,
   "metadata": {},
   "outputs": [
    {
     "data": {
      "text/plain": [
       "<matplotlib.legend.Legend at 0x7fb4180ea670>"
      ]
     },
     "execution_count": 27,
     "metadata": {},
     "output_type": "execute_result"
    },
    {
     "data": {
      "image/png": "[encoded data removed]",
      "text/plain": [
       "<Figure size 720x720 with 1 Axes>"
      ]
     },
     "metadata": {
      "needs_background": "light"
     },
     "output_type": "display_data"
    }
   ],
   "source": [
    "\n",
    "plt.figure(figsize=(10, 10))\n",
    "\n",
    "# vals = onp.stack([onp.asarray(v) for _, v in hmc_ens_accs.items() if v != []])\n",
    "# plt.plot(vals[:, 0], vals[:, -1], \"bo\")\n",
    "\n",
    "for key, _ in alldirs.items():\n",
    "    if hmc_ens_accs[key] == []:\n",
    "        continue\n",
    "    if key == \"Gaussian wd=10\":\n",
    "        marker = \"*\"\n",
    "    else:\n",
    "        marker=\"o\"\n",
    "    plt.plot(hmc_ens_accs[key][0], hmc_ens_accs[key][-1], marker, label=key)\n",
    "for key, _ in sgddirs.items():\n",
    "    plt.plot(sgd_ind_accs[key][0], sgd_ind_accs[key][-1], \"s\", label=key)\n",
    "    \n",
    "plt.xlabel(\"Original Performance\")\n",
    "plt.ylabel(\"Noise scale 10\")\n",
    "plt.grid()\n",
    "plt.legend()"
   ]
  },
  {
   "cell_type": "code",
   "execution_count": null,
   "metadata": {},
   "outputs": [],
   "source": []
  }
 ],
 "metadata": {
  "kernelspec": {
   "display_name": "Python 3",
   "language": "python",
   "name": "python3"
  },
  "language_info": {
   "codemirror_mode": {
    "name": "ipython",
    "version": 3
   },
   "file_extension": ".py",
   "mimetype": "text/x-python",
   "name": "python",
   "nbconvert_exporter": "python",
   "pygments_lexer": "ipython3",
   "version": "3.8.5"
  }
 },
 "nbformat": 4,
 "nbformat_minor": 5
}
